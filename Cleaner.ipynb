{
 "cells": [
  {
   "cell_type": "markdown",
   "id": "72e07caa-a460-475f-baa9-911623584475",
   "metadata": {},
   "source": [
    "# PRE-PROCESSING FOR MACHINE LEARNING\n",
    "01. Understanding the data\n",
    "02. Handle the Missing Data\n",
    "03. Initial Outliers Check\n",
    "04. Encoding Categorical Variables\n",
    "05. Feature Scaling\n",
    "06. Final Outliers Check (Optional)\n",
    "07. PCA and LDA (Optional)\n",
    "08. Date and Time Feature Engineering\n",
    "09. Exploratory Data Analysis\n",
    "10. Feature Engineering\n",
    "11. Feature Selection\n",
    "12. Data Imbalance\n",
    "13. Splitting the Data"
   ]
  },
  {
   "cell_type": "code",
   "execution_count": 3,
   "id": "8d28784a-e67b-4eb9-af28-b8bf313602ed",
   "metadata": {},
   "outputs": [],
   "source": [
    "# Complete pandas and numpy is required\n",
    "import pandas as pd\n",
    "import numpy as np\n",
    "import matplotlib.pyplot as plt\n",
    "import seaborn as sns"
   ]
  },
  {
   "cell_type": "markdown",
   "id": "a479ceee-a534-4430-923c-245bf7796f6c",
   "metadata": {},
   "source": [
    "## 1. Understanding the data\n",
    "    - df.info(), df.describe(), df.head(), df.dtype\n",
    "    - unique values for each columns, inconsistent values handling\n",
    "    - check for data leakage\n",
    "    - removing duplicates\n",
    "    - target distribution (for classification: value_counts, for regression: histogram)"
   ]
  },
  {
   "cell_type": "code",
   "execution_count": 3,
   "id": "4a232f04-6f8d-44e8-9dc6-3cb9d8de871c",
   "metadata": {},
   "outputs": [],
   "source": [
    "df = pd.read_csv('titanic.csv')"
   ]
  },
  {
   "cell_type": "markdown",
   "id": "f7c69989-fbbb-4780-9283-b5c0052f5ab6",
   "metadata": {},
   "source": [
    " "
   ]
  },
  {
   "cell_type": "markdown",
   "id": "ed5658c8-6a0b-40b1-901d-989001e7c63d",
   "metadata": {},
   "source": [
    "#### 1"
   ]
  },
  {
   "cell_type": "code",
   "execution_count": 4,
   "id": "9f1e5ae3-8802-4ccf-ae85-e10bedf93b0a",
   "metadata": {},
   "outputs": [
    {
     "data": {
      "text/html": [
       "<div>\n",
       "<style scoped>\n",
       "    .dataframe tbody tr th:only-of-type {\n",
       "        vertical-align: middle;\n",
       "    }\n",
       "\n",
       "    .dataframe tbody tr th {\n",
       "        vertical-align: top;\n",
       "    }\n",
       "\n",
       "    .dataframe thead th {\n",
       "        text-align: right;\n",
       "    }\n",
       "</style>\n",
       "<table border=\"1\" class=\"dataframe\">\n",
       "  <thead>\n",
       "    <tr style=\"text-align: right;\">\n",
       "      <th></th>\n",
       "      <th>survived</th>\n",
       "      <th>pclass</th>\n",
       "      <th>sex</th>\n",
       "      <th>age</th>\n",
       "      <th>sibsp</th>\n",
       "      <th>parch</th>\n",
       "      <th>fare</th>\n",
       "      <th>embarked</th>\n",
       "      <th>class</th>\n",
       "      <th>who</th>\n",
       "      <th>adult_male</th>\n",
       "      <th>deck</th>\n",
       "      <th>embark_town</th>\n",
       "      <th>alive</th>\n",
       "      <th>alone</th>\n",
       "    </tr>\n",
       "  </thead>\n",
       "  <tbody>\n",
       "    <tr>\n",
       "      <th>0</th>\n",
       "      <td>0</td>\n",
       "      <td>3</td>\n",
       "      <td>male</td>\n",
       "      <td>22.0</td>\n",
       "      <td>1</td>\n",
       "      <td>0</td>\n",
       "      <td>7.2500</td>\n",
       "      <td>S</td>\n",
       "      <td>Third</td>\n",
       "      <td>man</td>\n",
       "      <td>True</td>\n",
       "      <td>NaN</td>\n",
       "      <td>Southampton</td>\n",
       "      <td>no</td>\n",
       "      <td>False</td>\n",
       "    </tr>\n",
       "    <tr>\n",
       "      <th>1</th>\n",
       "      <td>1</td>\n",
       "      <td>1</td>\n",
       "      <td>female</td>\n",
       "      <td>38.0</td>\n",
       "      <td>1</td>\n",
       "      <td>0</td>\n",
       "      <td>71.2833</td>\n",
       "      <td>C</td>\n",
       "      <td>First</td>\n",
       "      <td>woman</td>\n",
       "      <td>False</td>\n",
       "      <td>C</td>\n",
       "      <td>Cherbourg</td>\n",
       "      <td>yes</td>\n",
       "      <td>False</td>\n",
       "    </tr>\n",
       "    <tr>\n",
       "      <th>2</th>\n",
       "      <td>1</td>\n",
       "      <td>3</td>\n",
       "      <td>female</td>\n",
       "      <td>26.0</td>\n",
       "      <td>0</td>\n",
       "      <td>0</td>\n",
       "      <td>7.9250</td>\n",
       "      <td>S</td>\n",
       "      <td>Third</td>\n",
       "      <td>woman</td>\n",
       "      <td>False</td>\n",
       "      <td>NaN</td>\n",
       "      <td>Southampton</td>\n",
       "      <td>yes</td>\n",
       "      <td>True</td>\n",
       "    </tr>\n",
       "    <tr>\n",
       "      <th>3</th>\n",
       "      <td>1</td>\n",
       "      <td>1</td>\n",
       "      <td>female</td>\n",
       "      <td>35.0</td>\n",
       "      <td>1</td>\n",
       "      <td>0</td>\n",
       "      <td>53.1000</td>\n",
       "      <td>S</td>\n",
       "      <td>First</td>\n",
       "      <td>woman</td>\n",
       "      <td>False</td>\n",
       "      <td>C</td>\n",
       "      <td>Southampton</td>\n",
       "      <td>yes</td>\n",
       "      <td>False</td>\n",
       "    </tr>\n",
       "    <tr>\n",
       "      <th>4</th>\n",
       "      <td>0</td>\n",
       "      <td>3</td>\n",
       "      <td>male</td>\n",
       "      <td>35.0</td>\n",
       "      <td>0</td>\n",
       "      <td>0</td>\n",
       "      <td>8.0500</td>\n",
       "      <td>S</td>\n",
       "      <td>Third</td>\n",
       "      <td>man</td>\n",
       "      <td>True</td>\n",
       "      <td>NaN</td>\n",
       "      <td>Southampton</td>\n",
       "      <td>no</td>\n",
       "      <td>True</td>\n",
       "    </tr>\n",
       "  </tbody>\n",
       "</table>\n",
       "</div>"
      ],
      "text/plain": [
       "   survived  pclass     sex   age  sibsp  parch     fare embarked  class  \\\n",
       "0         0       3    male  22.0      1      0   7.2500        S  Third   \n",
       "1         1       1  female  38.0      1      0  71.2833        C  First   \n",
       "2         1       3  female  26.0      0      0   7.9250        S  Third   \n",
       "3         1       1  female  35.0      1      0  53.1000        S  First   \n",
       "4         0       3    male  35.0      0      0   8.0500        S  Third   \n",
       "\n",
       "     who  adult_male deck  embark_town alive  alone  \n",
       "0    man        True  NaN  Southampton    no  False  \n",
       "1  woman       False    C    Cherbourg   yes  False  \n",
       "2  woman       False  NaN  Southampton   yes   True  \n",
       "3  woman       False    C  Southampton   yes  False  \n",
       "4    man        True  NaN  Southampton    no   True  "
      ]
     },
     "execution_count": 4,
     "metadata": {},
     "output_type": "execute_result"
    }
   ],
   "source": [
    "df.head()"
   ]
  },
  {
   "cell_type": "code",
   "execution_count": 5,
   "id": "ff90dc0e-c3e6-40eb-a596-4a21cfa3db97",
   "metadata": {},
   "outputs": [
    {
     "name": "stdout",
     "output_type": "stream",
     "text": [
      "<class 'pandas.core.frame.DataFrame'>\n",
      "RangeIndex: 891 entries, 0 to 890\n",
      "Data columns (total 15 columns):\n",
      " #   Column       Non-Null Count  Dtype  \n",
      "---  ------       --------------  -----  \n",
      " 0   survived     891 non-null    int64  \n",
      " 1   pclass       891 non-null    int64  \n",
      " 2   sex          891 non-null    object \n",
      " 3   age          714 non-null    float64\n",
      " 4   sibsp        891 non-null    int64  \n",
      " 5   parch        891 non-null    int64  \n",
      " 6   fare         891 non-null    float64\n",
      " 7   embarked     889 non-null    object \n",
      " 8   class        891 non-null    object \n",
      " 9   who          891 non-null    object \n",
      " 10  adult_male   891 non-null    bool   \n",
      " 11  deck         203 non-null    object \n",
      " 12  embark_town  889 non-null    object \n",
      " 13  alive        891 non-null    object \n",
      " 14  alone        891 non-null    bool   \n",
      "dtypes: bool(2), float64(2), int64(4), object(7)\n",
      "memory usage: 92.4+ KB\n"
     ]
    }
   ],
   "source": [
    "df.info()"
   ]
  },
  {
   "cell_type": "code",
   "execution_count": 6,
   "id": "565c45bd-a3b8-4993-86cf-bb4a8ee2a328",
   "metadata": {},
   "outputs": [
    {
     "data": {
      "text/html": [
       "<div>\n",
       "<style scoped>\n",
       "    .dataframe tbody tr th:only-of-type {\n",
       "        vertical-align: middle;\n",
       "    }\n",
       "\n",
       "    .dataframe tbody tr th {\n",
       "        vertical-align: top;\n",
       "    }\n",
       "\n",
       "    .dataframe thead th {\n",
       "        text-align: right;\n",
       "    }\n",
       "</style>\n",
       "<table border=\"1\" class=\"dataframe\">\n",
       "  <thead>\n",
       "    <tr style=\"text-align: right;\">\n",
       "      <th></th>\n",
       "      <th>survived</th>\n",
       "      <th>pclass</th>\n",
       "      <th>age</th>\n",
       "      <th>sibsp</th>\n",
       "      <th>parch</th>\n",
       "      <th>fare</th>\n",
       "    </tr>\n",
       "  </thead>\n",
       "  <tbody>\n",
       "    <tr>\n",
       "      <th>count</th>\n",
       "      <td>891.000000</td>\n",
       "      <td>891.000000</td>\n",
       "      <td>714.000000</td>\n",
       "      <td>891.000000</td>\n",
       "      <td>891.000000</td>\n",
       "      <td>891.000000</td>\n",
       "    </tr>\n",
       "    <tr>\n",
       "      <th>mean</th>\n",
       "      <td>0.383838</td>\n",
       "      <td>2.308642</td>\n",
       "      <td>29.699118</td>\n",
       "      <td>0.523008</td>\n",
       "      <td>0.381594</td>\n",
       "      <td>32.204208</td>\n",
       "    </tr>\n",
       "    <tr>\n",
       "      <th>std</th>\n",
       "      <td>0.486592</td>\n",
       "      <td>0.836071</td>\n",
       "      <td>14.526497</td>\n",
       "      <td>1.102743</td>\n",
       "      <td>0.806057</td>\n",
       "      <td>49.693429</td>\n",
       "    </tr>\n",
       "    <tr>\n",
       "      <th>min</th>\n",
       "      <td>0.000000</td>\n",
       "      <td>1.000000</td>\n",
       "      <td>0.420000</td>\n",
       "      <td>0.000000</td>\n",
       "      <td>0.000000</td>\n",
       "      <td>0.000000</td>\n",
       "    </tr>\n",
       "    <tr>\n",
       "      <th>25%</th>\n",
       "      <td>0.000000</td>\n",
       "      <td>2.000000</td>\n",
       "      <td>20.125000</td>\n",
       "      <td>0.000000</td>\n",
       "      <td>0.000000</td>\n",
       "      <td>7.910400</td>\n",
       "    </tr>\n",
       "    <tr>\n",
       "      <th>50%</th>\n",
       "      <td>0.000000</td>\n",
       "      <td>3.000000</td>\n",
       "      <td>28.000000</td>\n",
       "      <td>0.000000</td>\n",
       "      <td>0.000000</td>\n",
       "      <td>14.454200</td>\n",
       "    </tr>\n",
       "    <tr>\n",
       "      <th>75%</th>\n",
       "      <td>1.000000</td>\n",
       "      <td>3.000000</td>\n",
       "      <td>38.000000</td>\n",
       "      <td>1.000000</td>\n",
       "      <td>0.000000</td>\n",
       "      <td>31.000000</td>\n",
       "    </tr>\n",
       "    <tr>\n",
       "      <th>max</th>\n",
       "      <td>1.000000</td>\n",
       "      <td>3.000000</td>\n",
       "      <td>80.000000</td>\n",
       "      <td>8.000000</td>\n",
       "      <td>6.000000</td>\n",
       "      <td>512.329200</td>\n",
       "    </tr>\n",
       "  </tbody>\n",
       "</table>\n",
       "</div>"
      ],
      "text/plain": [
       "         survived      pclass         age       sibsp       parch        fare\n",
       "count  891.000000  891.000000  714.000000  891.000000  891.000000  891.000000\n",
       "mean     0.383838    2.308642   29.699118    0.523008    0.381594   32.204208\n",
       "std      0.486592    0.836071   14.526497    1.102743    0.806057   49.693429\n",
       "min      0.000000    1.000000    0.420000    0.000000    0.000000    0.000000\n",
       "25%      0.000000    2.000000   20.125000    0.000000    0.000000    7.910400\n",
       "50%      0.000000    3.000000   28.000000    0.000000    0.000000   14.454200\n",
       "75%      1.000000    3.000000   38.000000    1.000000    0.000000   31.000000\n",
       "max      1.000000    3.000000   80.000000    8.000000    6.000000  512.329200"
      ]
     },
     "execution_count": 6,
     "metadata": {},
     "output_type": "execute_result"
    }
   ],
   "source": [
    "df.describe()"
   ]
  },
  {
   "cell_type": "markdown",
   "id": "7b1d0dd0-36f5-4fe4-b2bb-160884e969d8",
   "metadata": {},
   "source": [
    " "
   ]
  },
  {
   "cell_type": "markdown",
   "id": "0876e560-32d9-4a06-a212-f5476b6f8c81",
   "metadata": {},
   "source": [
    "#### 2"
   ]
  },
  {
   "cell_type": "code",
   "execution_count": 7,
   "id": "a47d8d1c-6099-44ba-b137-dd202042097b",
   "metadata": {},
   "outputs": [],
   "source": [
    "df_object = df.select_dtypes(include=['object'])"
   ]
  },
  {
   "cell_type": "code",
   "execution_count": 8,
   "id": "ef4dbc66-f12e-4346-84a4-e9132b0ba5d9",
   "metadata": {},
   "outputs": [],
   "source": [
    "lis = df_object.columns"
   ]
  },
  {
   "cell_type": "code",
   "execution_count": 9,
   "id": "bfd713a8-0407-47cb-8828-afabb5e5917f",
   "metadata": {},
   "outputs": [
    {
     "data": {
      "text/plain": [
       "['sex', 'embarked', 'class', 'who', 'deck', 'embark_town', 'alive']"
      ]
     },
     "execution_count": 9,
     "metadata": {},
     "output_type": "execute_result"
    }
   ],
   "source": [
    "list(lis)"
   ]
  },
  {
   "cell_type": "code",
   "execution_count": 10,
   "id": "368d0f57-42fb-4c22-a379-3db71c791402",
   "metadata": {},
   "outputs": [
    {
     "name": "stdout",
     "output_type": "stream",
     "text": [
      "['male' 'female']\n",
      "['S' 'C' 'Q' nan]\n",
      "['Third' 'First' 'Second']\n",
      "['man' 'woman' 'child']\n",
      "[nan 'C' 'E' 'G' 'D' 'A' 'B' 'F']\n",
      "['Southampton' 'Cherbourg' 'Queenstown' nan]\n",
      "['no' 'yes']\n"
     ]
    }
   ],
   "source": [
    "for i in lis:\n",
    "    print(df[i].unique())"
   ]
  },
  {
   "cell_type": "markdown",
   "id": "4f8c01f5-5446-4bda-bd31-c864adcd9780",
   "metadata": {},
   "source": [
    " "
   ]
  },
  {
   "cell_type": "markdown",
   "id": "bb58f8ca-4d9d-4a3c-bf84-642c8dd499ed",
   "metadata": {},
   "source": [
    "#### 3. \n",
    "Survived == Alive"
   ]
  },
  {
   "cell_type": "code",
   "execution_count": 11,
   "id": "7247bf5d-0686-4cf3-84d1-5be325b31eaf",
   "metadata": {},
   "outputs": [],
   "source": [
    "df = df.drop('alive', axis=1)"
   ]
  },
  {
   "cell_type": "markdown",
   "id": "82691cf3-9d45-4af6-9541-d564bc6e98e8",
   "metadata": {},
   "source": [
    "## 4"
   ]
  },
  {
   "cell_type": "code",
   "execution_count": null,
   "id": "1cc791b1-5bed-423e-8cd6-427e6ea15c04",
   "metadata": {},
   "outputs": [],
   "source": []
  },
  {
   "cell_type": "markdown",
   "id": "0ca0d715-b10a-4c70-8960-29be06a276ca",
   "metadata": {},
   "source": [
    "### 5"
   ]
  },
  {
   "cell_type": "code",
   "execution_count": 12,
   "id": "6899e3c8-9e52-4906-a185-81f5cebc950d",
   "metadata": {},
   "outputs": [
    {
     "data": {
      "text/plain": [
       "survived\n",
       "0    549\n",
       "1    342\n",
       "Name: count, dtype: int64"
      ]
     },
     "execution_count": 12,
     "metadata": {},
     "output_type": "execute_result"
    }
   ],
   "source": [
    "df['survived'].value_counts()"
   ]
  },
  {
   "cell_type": "markdown",
   "id": "bf0b22a0-5ffe-479c-8542-bc571759d20e",
   "metadata": {},
   "source": [
    "## 2. Handling the Missing Values\n",
    "    - remove the rows : if they are very less\n",
    "    - fill with default values: for example null cities with 'Unkown'\n",
    "    - Imputing the data: mean, median, mode, frontfill, backfill\n",
    "    - Generating Values : Using KNNImpute, IterativeImputer"
   ]
  },
  {
   "cell_type": "code",
   "execution_count": 13,
   "id": "5da898cb-173f-46e1-a82d-052a8bc88479",
   "metadata": {},
   "outputs": [],
   "source": [
    "df = pd.read_csv('AmesHousing.csv')"
   ]
  },
  {
   "cell_type": "code",
   "execution_count": 18,
   "id": "2578b26b-5cae-42ff-9378-8e73fca4bfab",
   "metadata": {
    "scrolled": true
   },
   "outputs": [
    {
     "name": "stdout",
     "output_type": "stream",
     "text": [
      "<class 'pandas.core.frame.DataFrame'>\n",
      "RangeIndex: 2930 entries, 0 to 2929\n",
      "Data columns (total 82 columns):\n",
      " #   Column           Non-Null Count  Dtype  \n",
      "---  ------           --------------  -----  \n",
      " 0   Order            2930 non-null   int64  \n",
      " 1   PID              2930 non-null   int64  \n",
      " 2   MS SubClass      2930 non-null   int64  \n",
      " 3   MS Zoning        2930 non-null   object \n",
      " 4   Lot Frontage     2440 non-null   float64\n",
      " 5   Lot Area         2930 non-null   int64  \n",
      " 6   Street           2930 non-null   object \n",
      " 7   Alley            198 non-null    object \n",
      " 8   Lot Shape        2930 non-null   object \n",
      " 9   Land Contour     2930 non-null   object \n",
      " 10  Utilities        2930 non-null   object \n",
      " 11  Lot Config       2930 non-null   object \n",
      " 12  Land Slope       2930 non-null   object \n",
      " 13  Neighborhood     2930 non-null   object \n",
      " 14  Condition 1      2930 non-null   object \n",
      " 15  Condition 2      2930 non-null   object \n",
      " 16  Bldg Type        2930 non-null   object \n",
      " 17  House Style      2930 non-null   object \n",
      " 18  Overall Qual     2930 non-null   int64  \n",
      " 19  Overall Cond     2930 non-null   int64  \n",
      " 20  Year Built       2930 non-null   int64  \n",
      " 21  Year Remod/Add   2930 non-null   int64  \n",
      " 22  Roof Style       2930 non-null   object \n",
      " 23  Roof Matl        2930 non-null   object \n",
      " 24  Exterior 1st     2930 non-null   object \n",
      " 25  Exterior 2nd     2930 non-null   object \n",
      " 26  Mas Vnr Type     1155 non-null   object \n",
      " 27  Mas Vnr Area     2907 non-null   float64\n",
      " 28  Exter Qual       2930 non-null   object \n",
      " 29  Exter Cond       2930 non-null   object \n",
      " 30  Foundation       2930 non-null   object \n",
      " 31  Bsmt Qual        2850 non-null   object \n",
      " 32  Bsmt Cond        2850 non-null   object \n",
      " 33  Bsmt Exposure    2847 non-null   object \n",
      " 34  BsmtFin Type 1   2850 non-null   object \n",
      " 35  BsmtFin SF 1     2929 non-null   float64\n",
      " 36  BsmtFin Type 2   2849 non-null   object \n",
      " 37  BsmtFin SF 2     2929 non-null   float64\n",
      " 38  Bsmt Unf SF      2929 non-null   float64\n",
      " 39  Total Bsmt SF    2929 non-null   float64\n",
      " 40  Heating          2930 non-null   object \n",
      " 41  Heating QC       2930 non-null   object \n",
      " 42  Central Air      2930 non-null   object \n",
      " 43  Electrical       2929 non-null   object \n",
      " 44  1st Flr SF       2930 non-null   int64  \n",
      " 45  2nd Flr SF       2930 non-null   int64  \n",
      " 46  Low Qual Fin SF  2930 non-null   int64  \n",
      " 47  Gr Liv Area      2930 non-null   int64  \n",
      " 48  Bsmt Full Bath   2928 non-null   float64\n",
      " 49  Bsmt Half Bath   2928 non-null   float64\n",
      " 50  Full Bath        2930 non-null   int64  \n",
      " 51  Half Bath        2930 non-null   int64  \n",
      " 52  Bedroom AbvGr    2930 non-null   int64  \n",
      " 53  Kitchen AbvGr    2930 non-null   int64  \n",
      " 54  Kitchen Qual     2930 non-null   object \n",
      " 55  TotRms AbvGrd    2930 non-null   int64  \n",
      " 56  Functional       2930 non-null   object \n",
      " 57  Fireplaces       2930 non-null   int64  \n",
      " 58  Fireplace Qu     1508 non-null   object \n",
      " 59  Garage Type      2773 non-null   object \n",
      " 60  Garage Yr Blt    2771 non-null   float64\n",
      " 61  Garage Finish    2771 non-null   object \n",
      " 62  Garage Cars      2929 non-null   float64\n",
      " 63  Garage Area      2929 non-null   float64\n",
      " 64  Garage Qual      2771 non-null   object \n",
      " 65  Garage Cond      2771 non-null   object \n",
      " 66  Paved Drive      2930 non-null   object \n",
      " 67  Wood Deck SF     2930 non-null   int64  \n",
      " 68  Open Porch SF    2930 non-null   int64  \n",
      " 69  Enclosed Porch   2930 non-null   int64  \n",
      " 70  3Ssn Porch       2930 non-null   int64  \n",
      " 71  Screen Porch     2930 non-null   int64  \n",
      " 72  Pool Area        2930 non-null   int64  \n",
      " 73  Pool QC          13 non-null     object \n",
      " 74  Fence            572 non-null    object \n",
      " 75  Misc Feature     106 non-null    object \n",
      " 76  Misc Val         2930 non-null   int64  \n",
      " 77  Mo Sold          2930 non-null   int64  \n",
      " 78  Yr Sold          2930 non-null   int64  \n",
      " 79  Sale Type        2930 non-null   object \n",
      " 80  Sale Condition   2930 non-null   object \n",
      " 81  SalePrice        2930 non-null   int64  \n",
      "dtypes: float64(11), int64(28), object(43)\n",
      "memory usage: 1.8+ MB\n"
     ]
    }
   ],
   "source": [
    "df.info()"
   ]
  },
  {
   "cell_type": "code",
   "execution_count": 19,
   "id": "f158ef3c-2909-4a23-8f0c-9e7dd1554c30",
   "metadata": {},
   "outputs": [
    {
     "data": {
      "text/plain": [
       "Order               0\n",
       "PID                 0\n",
       "MS SubClass         0\n",
       "MS Zoning           0\n",
       "Lot Frontage      490\n",
       "                 ... \n",
       "Mo Sold             0\n",
       "Yr Sold             0\n",
       "Sale Type           0\n",
       "Sale Condition      0\n",
       "SalePrice           0\n",
       "Length: 82, dtype: int64"
      ]
     },
     "execution_count": 19,
     "metadata": {},
     "output_type": "execute_result"
    }
   ],
   "source": [
    "df.isnull().sum()"
   ]
  },
  {
   "cell_type": "code",
   "execution_count": 48,
   "id": "a81892e8-a775-4b23-aff2-e68961affea4",
   "metadata": {
    "scrolled": true
   },
   "outputs": [
    {
     "data": {
      "text/plain": [
       "[['Lot Frontage', 490],\n",
       " ['Alley', 2732],\n",
       " ['Mas Vnr Type', 1775],\n",
       " ['Mas Vnr Area', 23],\n",
       " ['Bsmt Qual', 80],\n",
       " ['Bsmt Cond', 80],\n",
       " ['Bsmt Exposure', 83],\n",
       " ['BsmtFin Type 1', 80],\n",
       " ['BsmtFin SF 1', 1],\n",
       " ['BsmtFin Type 2', 81],\n",
       " ['BsmtFin SF 2', 1],\n",
       " ['Bsmt Unf SF', 1],\n",
       " ['Total Bsmt SF', 1],\n",
       " ['Electrical', 1],\n",
       " ['Bsmt Full Bath', 2],\n",
       " ['Bsmt Half Bath', 2],\n",
       " ['Fireplace Qu', 1422],\n",
       " ['Garage Type', 157],\n",
       " ['Garage Yr Blt', 159],\n",
       " ['Garage Finish', 159],\n",
       " ['Garage Cars', 1],\n",
       " ['Garage Area', 1],\n",
       " ['Garage Qual', 159],\n",
       " ['Garage Cond', 159],\n",
       " ['Pool QC', 2917],\n",
       " ['Fence', 2358],\n",
       " ['Misc Feature', 2824]]"
      ]
     },
     "execution_count": 48,
     "metadata": {},
     "output_type": "execute_result"
    }
   ],
   "source": [
    "cols = []\n",
    "for i in df.columns:\n",
    "    if df[i].isnull().sum() > 0:\n",
    "        cols.append([i, df[i].isnull().sum()])\n",
    "cols"
   ]
  },
  {
   "cell_type": "markdown",
   "id": "6ccecc80-173a-4f09-8871-757d1d384843",
   "metadata": {},
   "source": [
    " "
   ]
  },
  {
   "cell_type": "markdown",
   "id": "3cf951d7-7db4-4d8f-b046-0f01817a9d4c",
   "metadata": {},
   "source": [
    "#### 1 : Deleting the null <br><br>\n",
    "The columns like *Alley*, *Pool QC*, *Fence*, *Misc Feature* are having more than 90% of null values.<br>\n",
    "How to deal and what to drop ?<br>\n",
    "\n",
    "1. Dropping rows:<br>\n",
    "       if null values are less, for example *'BsmtFin SF 1'* has missing value in only one row\n",
    "2. Dropping columns:<br>\n",
    "       if null values are more, for example *Alley* has 198 values in its column, so we can drop it completely [but not recommended]\n",
    "\n",
    "<big><b>*Note: Dropping rows and columns is never recommended without thorough check of data.*</b></big>"
   ]
  },
  {
   "cell_type": "markdown",
   "id": "f453d09b-80a6-44bb-9e92-35fd932534ad",
   "metadata": {},
   "source": [
    "deleting columns"
   ]
  },
  {
   "cell_type": "code",
   "execution_count": 49,
   "id": "db06818a-e347-414d-95bb-ae233ca075ee",
   "metadata": {},
   "outputs": [],
   "source": [
    "df = df.drop('Pool QC',axis=1)"
   ]
  },
  {
   "cell_type": "code",
   "execution_count": 50,
   "id": "d3a09790-45ec-4f31-9593-5338aa2c5397",
   "metadata": {},
   "outputs": [],
   "source": [
    "df = df.drop('Misc Feature', axis=1)"
   ]
  },
  {
   "cell_type": "markdown",
   "id": "1cc38b1b-d9b9-49e9-b60f-0d802e132791",
   "metadata": {},
   "source": [
    "deleting rows"
   ]
  },
  {
   "cell_type": "code",
   "execution_count": 51,
   "id": "e0b2c38f-2c11-48d4-93e7-e3869fe1cc78",
   "metadata": {},
   "outputs": [],
   "source": [
    "df.dropna(subset=['Bsmt Unf SF'], inplace = True)"
   ]
  },
  {
   "cell_type": "code",
   "execution_count": 52,
   "id": "cbcc2761-3f49-4c82-af66-14a2d9668854",
   "metadata": {},
   "outputs": [],
   "source": [
    "df.dropna(subset=['Bsmt Full Bath'], inplace=True)"
   ]
  },
  {
   "cell_type": "markdown",
   "id": "4408dfa6-9383-4a64-8122-262336df57c5",
   "metadata": {},
   "source": [
    "We will do other methods on remaining data"
   ]
  },
  {
   "cell_type": "markdown",
   "id": "54e9167f-c595-4219-88c8-5e42aba7f475",
   "metadata": {},
   "source": [
    " "
   ]
  },
  {
   "cell_type": "markdown",
   "id": "5b72ba24-9d94-4f22-bc3d-0aabca5cba36",
   "metadata": {},
   "source": [
    "#### 2 : Filling by default values"
   ]
  },
  {
   "cell_type": "code",
   "execution_count": 53,
   "id": "7c35b5b1-838e-4966-8b98-a4693558282f",
   "metadata": {},
   "outputs": [],
   "source": [
    "df['Alley'] = df['Alley'].fillna('No Alley')"
   ]
  },
  {
   "cell_type": "code",
   "execution_count": 54,
   "id": "79ec02ce-2299-4ab8-96fa-7ef5640da31a",
   "metadata": {},
   "outputs": [],
   "source": [
    "df['Fence'] = df['Fence'].fillna('No Fence')"
   ]
  },
  {
   "cell_type": "markdown",
   "id": "808fa1db-492f-4470-b523-c1a1f2a0236e",
   "metadata": {},
   "source": [
    "#### 3 : Imputing Data\n",
    "The operations are done separately to keep track how much lines we are deleting<br>\n",
    "Generally 5% rows are okay.<br>\n",
    "We also have to check the number of data missing in rows.<br>\n",
    "If in a row more than 30% features are missing then we can go for deletion, otherwise imputation"
   ]
  },
  {
   "cell_type": "markdown",
   "id": "88232180-bbe1-4b64-a420-d558d2c2cf55",
   "metadata": {},
   "source": [
    "How to deal ? <br>\n",
    "1. Mean: normally distributed, continuous value, no extremes/outliers ... bell shape graph, \n",
    "2. Median: not normally distributed, continuous value, have extremes/outliers\n",
    "3. Mode: Discrete values or categorical values, okay with extremens/outliers\n",
    "4. Ffill and bfill: For time-series data, for ex. stock rates"
   ]
  },
  {
   "cell_type": "code",
   "execution_count": 55,
   "id": "0a8aeacd-e4af-4a7d-a281-6d879c26a0c2",
   "metadata": {},
   "outputs": [
    {
     "data": {
      "text/plain": [
       "<Axes: xlabel='Lot Frontage', ylabel='Count'>"
      ]
     },
     "execution_count": 55,
     "metadata": {},
     "output_type": "execute_result"
    },
    {
     "data": {
      "image/png": "[encoded data removed]",
      "text/plain": [
       "<Figure size 640x480 with 1 Axes>"
      ]
     },
     "metadata": {},
     "output_type": "display_data"
    }
   ],
   "source": [
    "sns.histplot(df['Lot Frontage'] , kde=True)"
   ]
  },
  {
   "cell_type": "code",
   "execution_count": 14,
   "id": "a63af1f5-c372-45d6-a434-a5ab26552c90",
   "metadata": {},
   "outputs": [],
   "source": [
    "df['Electrical'] = df['Electrical'].fillna(df['Electrical'].mode()[0])"
   ]
  },
  {
   "cell_type": "code",
   "execution_count": 57,
   "id": "30d73aa9-93d5-4e4f-81df-3bb54e9540da",
   "metadata": {},
   "outputs": [],
   "source": [
    "df['Lot Frontage'] = df['Lot Frontage'].fillna(df['Lot Frontage'].median())"
   ]
  },
  {
   "cell_type": "code",
   "execution_count": 58,
   "id": "e8767ebb-4d60-4440-954e-a575708635cf",
   "metadata": {},
   "outputs": [],
   "source": [
    "# this is wrong method to do so, correct is filling default 'No' value\n",
    "df['Mas Vnr Type'] = df['Mas Vnr Type'].ffill()"
   ]
  },
  {
   "cell_type": "code",
   "execution_count": 59,
   "id": "52d8635d-3248-4ffd-acc1-3314c1872a4c",
   "metadata": {},
   "outputs": [],
   "source": [
    "# fill with 0, since type was not mentioned\n",
    "df['Mas Vnr Area'] = df['Mas Vnr Area'].fillna(0)"
   ]
  },
  {
   "cell_type": "code",
   "execution_count": 60,
   "id": "09dd5611-2757-419c-a5b5-075399f2e4e7",
   "metadata": {},
   "outputs": [
    {
     "data": {
      "text/plain": [
       "Bsmt Qual           78\n",
       "Bsmt Cond           78\n",
       "Bsmt Exposure       81\n",
       "BsmtFin Type 1      78\n",
       "BsmtFin Type 2      79\n",
       "Fireplace Qu      1421\n",
       "Garage Type        157\n",
       "Garage Yr Blt      159\n",
       "Garage Finish      159\n",
       "Garage Cars          1\n",
       "Garage Area          1\n",
       "Garage Qual        159\n",
       "Garage Cond        159\n",
       "dtype: int64"
      ]
     },
     "execution_count": 60,
     "metadata": {},
     "output_type": "execute_result"
    }
   ],
   "source": [
    "'''Alternative way for :\n",
    "   cols = []\n",
    "   for i in df.columns:\n",
    "      if df[i].isnull().sum() > 0:\n",
    "          cols.append([i, df[i].isnull().sum()])|\n",
    "    cols\n",
    "'''\n",
    "\n",
    "df.isnull().sum()[df.isnull().sum() > 0]"
   ]
  },
  {
   "cell_type": "code",
   "execution_count": 61,
   "id": "7c604d61-9df8-4cb2-9ab6-6fa3228aa171",
   "metadata": {},
   "outputs": [],
   "source": [
    "df['Bsmt Qual'] = df['Bsmt Qual'].fillna('No')\n",
    "df['Bsmt Cond'] = df['Bsmt Cond'].fillna('No')\n",
    "df['Bsmt Exposure'] = df['Bsmt Exposure'].fillna('No')\n",
    "df['BsmtFin Type 1'] = df['BsmtFin Type 1'].fillna('No')\n",
    "df['BsmtFin Type 2'] = df['BsmtFin Type 2'].fillna('No')"
   ]
  },
  {
   "cell_type": "code",
   "execution_count": 62,
   "id": "efcab09a-2982-4795-9b6d-7b6fe36e82cd",
   "metadata": {},
   "outputs": [],
   "source": [
    "df['Fireplace Qu'] = df['Fireplace Qu'].fillna('No')"
   ]
  },
  {
   "cell_type": "code",
   "execution_count": 63,
   "id": "0efe4c7a-0911-47d4-9a3c-c112fa3a7ce8",
   "metadata": {},
   "outputs": [
    {
     "data": {
      "text/plain": [
       "array(['Attchd', 'BuiltIn', 'Basment', 'Detchd', nan, 'CarPort', '2Types'],\n",
       "      dtype=object)"
      ]
     },
     "execution_count": 63,
     "metadata": {},
     "output_type": "execute_result"
    }
   ],
   "source": [
    "df['Garage Type'].unique()"
   ]
  },
  {
   "cell_type": "code",
   "execution_count": 64,
   "id": "15be7dc9-e04a-44af-a805-51a723190d85",
   "metadata": {},
   "outputs": [
    {
     "data": {
      "text/html": [
       "<div>\n",
       "<style scoped>\n",
       "    .dataframe tbody tr th:only-of-type {\n",
       "        vertical-align: middle;\n",
       "    }\n",
       "\n",
       "    .dataframe tbody tr th {\n",
       "        vertical-align: top;\n",
       "    }\n",
       "\n",
       "    .dataframe thead th {\n",
       "        text-align: right;\n",
       "    }\n",
       "</style>\n",
       "<table border=\"1\" class=\"dataframe\">\n",
       "  <thead>\n",
       "    <tr style=\"text-align: right;\">\n",
       "      <th></th>\n",
       "      <th>Garage Type</th>\n",
       "      <th>Garage Yr Blt</th>\n",
       "      <th>Garage Finish</th>\n",
       "      <th>Garage Area</th>\n",
       "      <th>Garage Qual</th>\n",
       "      <th>Garage Cond</th>\n",
       "    </tr>\n",
       "  </thead>\n",
       "  <tbody>\n",
       "    <tr>\n",
       "      <th>2236</th>\n",
       "      <td>Detchd</td>\n",
       "      <td>NaN</td>\n",
       "      <td>NaN</td>\n",
       "      <td>NaN</td>\n",
       "      <td>NaN</td>\n",
       "      <td>NaN</td>\n",
       "    </tr>\n",
       "  </tbody>\n",
       "</table>\n",
       "</div>"
      ],
      "text/plain": [
       "     Garage Type  Garage Yr Blt Garage Finish  Garage Area Garage Qual  \\\n",
       "2236      Detchd            NaN           NaN          NaN         NaN   \n",
       "\n",
       "     Garage Cond  \n",
       "2236         NaN  "
      ]
     },
     "execution_count": 64,
     "metadata": {},
     "output_type": "execute_result"
    }
   ],
   "source": [
    "df[df['Garage Cars'].isnull()][['Garage Type', 'Garage Yr Blt', 'Garage Finish', 'Garage Area', 'Garage Qual', 'Garage Cond']]"
   ]
  },
  {
   "cell_type": "code",
   "execution_count": 65,
   "id": "ae62e91f-1763-4794-9f26-07d9268903c3",
   "metadata": {},
   "outputs": [],
   "source": [
    "df.dropna(subset=['Garage Cars'], inplace = True)"
   ]
  },
  {
   "cell_type": "code",
   "execution_count": 66,
   "id": "2b4d0a91-15a2-4975-8b8c-1072ed1ff686",
   "metadata": {},
   "outputs": [],
   "source": [
    "df['Garage Type'] = df['Garage Type'].fillna('No')"
   ]
  },
  {
   "cell_type": "code",
   "execution_count": 67,
   "id": "f1443851-bfbf-488e-82d6-315f0a57f36d",
   "metadata": {},
   "outputs": [],
   "source": [
    "df['Garage Yr Blt'] = df['Garage Yr Blt'].fillna(0)"
   ]
  },
  {
   "cell_type": "code",
   "execution_count": 68,
   "id": "03f69704-b776-4924-b121-4234b7498b54",
   "metadata": {},
   "outputs": [],
   "source": [
    "df['Garage Finish'] = df['Garage Finish'].fillna(0)"
   ]
  },
  {
   "cell_type": "code",
   "execution_count": 69,
   "id": "306f8561-c66b-409f-84ee-c06b5366a3c2",
   "metadata": {},
   "outputs": [],
   "source": [
    "df['Garage Area'] = df['Garage Area'].fillna(0)"
   ]
  },
  {
   "cell_type": "code",
   "execution_count": 70,
   "id": "17a7d4be-8de3-476b-ad1f-31ef42b18d33",
   "metadata": {},
   "outputs": [],
   "source": [
    "df['Garage Qual'] = df['Garage Qual'].fillna(df['Garage Qual'].mode()[0])"
   ]
  },
  {
   "cell_type": "code",
   "execution_count": 71,
   "id": "a02ae046-52d5-4fb3-a7b7-7588825099fc",
   "metadata": {},
   "outputs": [],
   "source": [
    "df['Garage Cond'] = df['Garage Cond'].fillna(df['Garage Cond'].mode()[0])"
   ]
  },
  {
   "cell_type": "markdown",
   "id": "fc4e5360-ef4d-4d23-87a8-3f77564b9bb5",
   "metadata": {},
   "source": [
    " "
   ]
  },
  {
   "cell_type": "markdown",
   "id": "aa582502-cdb6-4545-a529-af7eccfc444a",
   "metadata": {},
   "source": [
    "#### 4: Generating values\n",
    "1. KNN Imputer: Interdependent data, needs standar scaling, slow, not for categorical\n",
    "2. IterativeImputer: Complex relation with other features, not for categorical"
   ]
  },
  {
   "cell_type": "markdown",
   "id": "0ff749ac-7ab9-4e57-b532-c9eb101f11d8",
   "metadata": {},
   "source": [
    "*Avoid it mostly*"
   ]
  },
  {
   "cell_type": "markdown",
   "id": "9e3b9e62-9da1-4478-9767-e94022d03dda",
   "metadata": {},
   "source": [
    " "
   ]
  },
  {
   "cell_type": "markdown",
   "id": "31152859-9b18-4a90-87bc-746c0d72f40b",
   "metadata": {},
   "source": [
    "## 3. Initial Outliers Check"
   ]
  },
  {
   "cell_type": "markdown",
   "id": "1089871e-be91-43e2-a517-f3f7956f896d",
   "metadata": {},
   "source": [
    "    - IQR : numeric, single column at a time\n",
    "    - Robust Z-score : numeric, small dataset, non-normal distribution\n",
    "    - log1p + RobustScaler : rightly skewed data, no normal distribution, no negative or zero value\n",
    "    - Isolation Forest : high dimentional data \n",
    "    - Winsorization: retain data rows, replace extreme value by upper or lower limit\n",
    "    - Yeo-Johnson : "
   ]
  },
  {
   "cell_type": "markdown",
   "id": "851c59d2-9e96-4dee-840c-84f159ec334d",
   "metadata": {},
   "source": [
    "check for outliers in all numeric data first, then decide which method to use"
   ]
  },
  {
   "cell_type": "code",
   "execution_count": 12,
   "id": "3b930c79-13d5-4632-9bdd-16fdfcf6ba7f",
   "metadata": {},
   "outputs": [],
   "source": [
    "df = pd.read_csv('BostonHousingData.csv')"
   ]
  },
  {
   "cell_type": "code",
   "execution_count": 13,
   "id": "5fe38d9a-d9fd-4b48-8b28-c5b245669be1",
   "metadata": {},
   "outputs": [
    {
     "name": "stdout",
     "output_type": "stream",
     "text": [
      "<class 'pandas.core.frame.DataFrame'>\n",
      "RangeIndex: 506 entries, 0 to 505\n",
      "Data columns (total 14 columns):\n",
      " #   Column   Non-Null Count  Dtype  \n",
      "---  ------   --------------  -----  \n",
      " 0   CRIM     486 non-null    float64\n",
      " 1   ZN       486 non-null    float64\n",
      " 2   INDUS    486 non-null    float64\n",
      " 3   CHAS     486 non-null    float64\n",
      " 4   NOX      506 non-null    float64\n",
      " 5   RM       506 non-null    float64\n",
      " 6   AGE      486 non-null    float64\n",
      " 7   DIS      506 non-null    float64\n",
      " 8   RAD      506 non-null    int64  \n",
      " 9   TAX      506 non-null    int64  \n",
      " 10  PTRATIO  506 non-null    float64\n",
      " 11  B        506 non-null    float64\n",
      " 12  LSTAT    486 non-null    float64\n",
      " 13  MEDV     506 non-null    float64\n",
      "dtypes: float64(12), int64(2)\n",
      "memory usage: 55.5 KB\n"
     ]
    }
   ],
   "source": [
    "df.info()"
   ]
  },
  {
   "cell_type": "code",
   "execution_count": 14,
   "id": "4d9d8b57-10cc-4d07-af33-af7e88c9013b",
   "metadata": {},
   "outputs": [
    {
     "data": {
      "text/plain": [
       "Index(['CRIM', 'ZN', 'INDUS', 'CHAS', 'NOX', 'RM', 'AGE', 'DIS', 'RAD', 'TAX',\n",
       "       'PTRATIO', 'B', 'LSTAT', 'MEDV'],\n",
       "      dtype='object')"
      ]
     },
     "execution_count": 14,
     "metadata": {},
     "output_type": "execute_result"
    }
   ],
   "source": [
    "df.select_dtypes(exclude=['object']).columns"
   ]
  },
  {
   "cell_type": "markdown",
   "id": "418add18-bc86-452d-b358-394d4157909d",
   "metadata": {},
   "source": [
    "No outliers: INDUS, NOX, AGE,{RAD},{TAX}, "
   ]
  },
  {
   "cell_type": "markdown",
   "id": "013a8d66-7267-4754-aeb7-24ea0a94cd82",
   "metadata": {},
   "source": [
    "#### 1"
   ]
  },
  {
   "cell_type": "code",
   "execution_count": 19,
   "id": "a7c7c1ee-cef5-4796-8f9f-d83f8aae3939",
   "metadata": {},
   "outputs": [
    {
     "data": {
      "text/plain": [
       "<Axes: ylabel='INDUS'>"
      ]
     },
     "execution_count": 19,
     "metadata": {},
     "output_type": "execute_result"
    },
    {
     "data": {
      "image/png": "[encoded data removed]",
      "text/plain": [
       "<Figure size 640x480 with 1 Axes>"
      ]
     },
     "metadata": {},
     "output_type": "display_data"
    }
   ],
   "source": [
    "sns.boxplot(df['INDUS'])"
   ]
  },
  {
   "cell_type": "code",
   "execution_count": 23,
   "id": "afd4e408-4840-44aa-b72e-3d24959d7f13",
   "metadata": {},
   "outputs": [
    {
     "data": {
      "text/plain": [
       "(18.1, 5.19)"
      ]
     },
     "execution_count": 23,
     "metadata": {},
     "output_type": "execute_result"
    }
   ],
   "source": [
    "df['INDUS'].quantile(0.75), df['INDUS'].quantile(0.25)"
   ]
  },
  {
   "cell_type": "code",
   "execution_count": null,
   "id": "0145b86a-1183-4526-b57e-7b172298ba35",
   "metadata": {},
   "outputs": [],
   "source": []
  },
  {
   "cell_type": "markdown",
   "id": "cf05fe71-3180-4f22-8af6-676abef1ca25",
   "metadata": {},
   "source": [
    "### 4. Encoding Categorical Data\n",
    "    - Manual Mapping : Less unique values, need manual supervision\n",
    "    - One-Hot Encoding : Nominal Data\n",
    "    - Label Encoding : Ordinal Data, No need to specify data (Not for linear models) \n",
    "    - Ordinal Encoding: Ordinal data, Specify data labelling\n",
    "    \n",
    "    - Target Encoding: denoted by the mean of the features we have given. [very riskful to use, can cause data leakage] \n",
    "    - Frequency Encoding: count of the values in column. [can be useless w. r. t. target]"
   ]
  },
  {
   "cell_type": "code",
   "execution_count": 33,
   "id": "a1c044e5-969d-4c08-b9b6-62f1b0e01e06",
   "metadata": {},
   "outputs": [],
   "source": [
    "columns = ['age', 'workclass', 'fnlwgt', 'education', 'education-num', 'marital-status',\n",
    "           'occupation', 'relationship', 'race', 'sex', 'capital-gain', 'capital-loss',\n",
    "           'hours-per-week', 'native-country', 'income']"
   ]
  },
  {
   "cell_type": "code",
   "execution_count": 34,
   "id": "836d0643-96a4-4657-8270-897fbb670156",
   "metadata": {},
   "outputs": [],
   "source": [
    "df = pd.read_csv('adult.data', names=columns, na_values='?', skipinitialspace=True)"
   ]
  },
  {
   "cell_type": "code",
   "execution_count": 35,
   "id": "94f37e62-3b58-4423-abd1-f14c4127b8cb",
   "metadata": {},
   "outputs": [
    {
     "name": "stdout",
     "output_type": "stream",
     "text": [
      "<class 'pandas.core.frame.DataFrame'>\n",
      "RangeIndex: 32561 entries, 0 to 32560\n",
      "Data columns (total 15 columns):\n",
      " #   Column          Non-Null Count  Dtype \n",
      "---  ------          --------------  ----- \n",
      " 0   age             32561 non-null  int64 \n",
      " 1   workclass       30725 non-null  object\n",
      " 2   fnlwgt          32561 non-null  int64 \n",
      " 3   education       32561 non-null  object\n",
      " 4   education-num   32561 non-null  int64 \n",
      " 5   marital-status  32561 non-null  object\n",
      " 6   occupation      30718 non-null  object\n",
      " 7   relationship    32561 non-null  object\n",
      " 8   race            32561 non-null  object\n",
      " 9   sex             32561 non-null  object\n",
      " 10  capital-gain    32561 non-null  int64 \n",
      " 11  capital-loss    32561 non-null  int64 \n",
      " 12  hours-per-week  32561 non-null  int64 \n",
      " 13  native-country  31978 non-null  object\n",
      " 14  income          32561 non-null  object\n",
      "dtypes: int64(6), object(9)\n",
      "memory usage: 3.7+ MB\n"
     ]
    }
   ],
   "source": [
    "df.info()\n",
    "# null values are handled here"
   ]
  },
  {
   "cell_type": "code",
   "execution_count": 37,
   "id": "7f93600c-61b4-4519-a40c-40b068bb64d3",
   "metadata": {},
   "outputs": [
    {
     "data": {
      "text/plain": [
       "age                  0\n",
       "workclass         1836\n",
       "fnlwgt               0\n",
       "education            0\n",
       "education-num        0\n",
       "marital-status       0\n",
       "occupation        1843\n",
       "relationship         0\n",
       "race                 0\n",
       "sex                  0\n",
       "capital-gain         0\n",
       "capital-loss         0\n",
       "hours-per-week       0\n",
       "native-country     583\n",
       "income               0\n",
       "dtype: int64"
      ]
     },
     "execution_count": 37,
     "metadata": {},
     "output_type": "execute_result"
    }
   ],
   "source": [
    "df.isnull().sum()"
   ]
  },
  {
   "cell_type": "code",
   "execution_count": 30,
   "id": "ef43e626-9aef-4016-b368-bba9e995b72c",
   "metadata": {},
   "outputs": [
    {
     "data": {
      "text/plain": [
       "['workclass',\n",
       " 'education',\n",
       " 'marital-status',\n",
       " 'occupation',\n",
       " 'relationship',\n",
       " 'race',\n",
       " 'sex',\n",
       " 'native-country',\n",
       " 'income']"
      ]
     },
     "execution_count": 30,
     "metadata": {},
     "output_type": "execute_result"
    }
   ],
   "source": [
    "lis = list(df.select_dtypes(include=['object']).columns)\n",
    "lis"
   ]
  },
  {
   "cell_type": "code",
   "execution_count": 31,
   "id": "20358fd9-0f9a-4312-84f9-94a642bc59ee",
   "metadata": {
    "scrolled": true
   },
   "outputs": [
    {
     "name": "stdout",
     "output_type": "stream",
     "text": [
      "workclass ['State-gov' 'Self-emp-not-inc' 'Private' 'Federal-gov' 'Local-gov' nan\n",
      " 'Self-emp-inc' 'Without-pay' 'Never-worked'] \n",
      "\n",
      "\n",
      "education ['Bachelors' 'HS-grad' '11th' 'Masters' '9th' 'Some-college' 'Assoc-acdm'\n",
      " 'Assoc-voc' '7th-8th' 'Doctorate' 'Prof-school' '5th-6th' '10th'\n",
      " '1st-4th' 'Preschool' '12th'] \n",
      "\n",
      "\n",
      "marital-status ['Never-married' 'Married-civ-spouse' 'Divorced' 'Married-spouse-absent'\n",
      " 'Separated' 'Married-AF-spouse' 'Widowed'] \n",
      "\n",
      "\n",
      "occupation ['Adm-clerical' 'Exec-managerial' 'Handlers-cleaners' 'Prof-specialty'\n",
      " 'Other-service' 'Sales' 'Craft-repair' 'Transport-moving'\n",
      " 'Farming-fishing' 'Machine-op-inspct' 'Tech-support' nan\n",
      " 'Protective-serv' 'Armed-Forces' 'Priv-house-serv'] \n",
      "\n",
      "\n",
      "relationship ['Not-in-family' 'Husband' 'Wife' 'Own-child' 'Unmarried' 'Other-relative'] \n",
      "\n",
      "\n",
      "race ['White' 'Black' 'Asian-Pac-Islander' 'Amer-Indian-Eskimo' 'Other'] \n",
      "\n",
      "\n",
      "sex ['Male' 'Female'] \n",
      "\n",
      "\n",
      "native-country ['United-States' 'Cuba' 'Jamaica' 'India' nan 'Mexico' 'South'\n",
      " 'Puerto-Rico' 'Honduras' 'England' 'Canada' 'Germany' 'Iran'\n",
      " 'Philippines' 'Italy' 'Poland' 'Columbia' 'Cambodia' 'Thailand' 'Ecuador'\n",
      " 'Laos' 'Taiwan' 'Haiti' 'Portugal' 'Dominican-Republic' 'El-Salvador'\n",
      " 'France' 'Guatemala' 'China' 'Japan' 'Yugoslavia' 'Peru'\n",
      " 'Outlying-US(Guam-USVI-etc)' 'Scotland' 'Trinadad&Tobago' 'Greece'\n",
      " 'Nicaragua' 'Vietnam' 'Hong' 'Ireland' 'Hungary' 'Holand-Netherlands'] \n",
      "\n",
      "\n",
      "income ['<=50K' '>50K'] \n",
      "\n",
      "\n"
     ]
    }
   ],
   "source": [
    "for i in lis:\n",
    "    print(i, df[i].unique(), '\\n\\n')"
   ]
  },
  {
   "cell_type": "markdown",
   "id": "9a0d2949-d493-4048-8c45-72f815ebd6f9",
   "metadata": {},
   "source": [
    " "
   ]
  },
  {
   "cell_type": "markdown",
   "id": "6ec7e5ec-404f-4b6d-a409-3107a0a597fd",
   "metadata": {},
   "source": [
    "#### 1: Manual mapping"
   ]
  },
  {
   "cell_type": "code",
   "execution_count": 92,
   "id": "d2df2d80-f9bf-42d3-84e4-d9b31923b0e1",
   "metadata": {},
   "outputs": [],
   "source": [
    "mapping = {'Male': 0, 'Female':1}\n",
    "df['sex'] = df['sex'].map(mapping)"
   ]
  },
  {
   "cell_type": "code",
   "execution_count": 93,
   "id": "ff4ccfe3-9706-46a1-841c-5d964d1003ef",
   "metadata": {},
   "outputs": [],
   "source": [
    "mapping = {'<=50K': 0, '>50K':1}\n",
    "df['income'] = df['income'].map(mapping)"
   ]
  },
  {
   "cell_type": "markdown",
   "id": "871e593d-e27f-4863-b99d-ec65909da99d",
   "metadata": {},
   "source": [
    "#### 2: One-Hot Encoding"
   ]
  },
  {
   "cell_type": "code",
   "execution_count": 95,
   "id": "7d108c83-36e2-4c7f-855e-efef4b556327",
   "metadata": {},
   "outputs": [],
   "source": [
    "from sklearn.preprocessing import OneHotEncoder"
   ]
  },
  {
   "cell_type": "code",
   "execution_count": 96,
   "id": "44c1e3de-889f-4e6e-8d6e-85e6cdc9c48b",
   "metadata": {},
   "outputs": [],
   "source": [
    "ohe = OneHotEncoder()"
   ]
  },
  {
   "cell_type": "code",
   "execution_count": 100,
   "id": "ae39b6a0-65fd-45f0-b908-4201a688fa41",
   "metadata": {},
   "outputs": [],
   "source": [
    "df_frame = ohe.fit_transform(df[['marital-status']]).toarray()\n",
    "df_frame = pd.DataFrame(df_frame, columns = ohe.get_feature_names_out(['marital-status']))"
   ]
  },
  {
   "cell_type": "code",
   "execution_count": 101,
   "id": "5b342a8e-dd06-4688-bfe6-1e86914b0a7e",
   "metadata": {},
   "outputs": [],
   "source": [
    "df = pd.concat([df.drop('marital-status', axis=1),df_frame], axis=1)"
   ]
  },
  {
   "cell_type": "markdown",
   "id": "9b0e6982-ec96-4044-9ad1-b382fc7565ef",
   "metadata": {},
   "source": [
    " 2nd method to do one hot encoding"
   ]
  },
  {
   "cell_type": "code",
   "execution_count": 97,
   "id": "7ee74cf0-d933-4f06-a84d-1e65e0796ce5",
   "metadata": {},
   "outputs": [],
   "source": [
    "df_frame = pd.get_dummies(df['workclass'], prefix='workclass')"
   ]
  },
  {
   "cell_type": "code",
   "execution_count": 99,
   "id": "5b4bc1ba-5a02-4ff9-9049-9ddab4c8a16e",
   "metadata": {},
   "outputs": [],
   "source": [
    "df = pd.concat([df.drop('workclass', axis=1),df_frame], axis=1)"
   ]
  },
  {
   "cell_type": "markdown",
   "id": "99b18489-7172-4d27-8508-781501add97d",
   "metadata": {},
   "source": [
    " "
   ]
  },
  {
   "cell_type": "markdown",
   "id": "d1c7f10b-b017-432c-80b7-8e04d8dfb3a0",
   "metadata": {},
   "source": [
    "#### 3: Label Encoding"
   ]
  },
  {
   "cell_type": "code",
   "execution_count": 102,
   "id": "2a8adecb-549a-461d-988e-f6162073705b",
   "metadata": {},
   "outputs": [],
   "source": [
    "from sklearn.preprocessing import LabelEncoder\n",
    "le = LabelEncoder()"
   ]
  },
  {
   "cell_type": "code",
   "execution_count": 103,
   "id": "a18b2d64-7653-42df-84da-b7925969b9a9",
   "metadata": {},
   "outputs": [],
   "source": [
    "df['relationship'] = le.fit_transform(df['relationship'])\n",
    "df['race'] = le.fit_transform(df['race'])"
   ]
  },
  {
   "cell_type": "markdown",
   "id": "2564d1fb-e69d-4ba5-8064-5d1a37e4254b",
   "metadata": {},
   "source": [
    "#### 4: Ordinal Labeling"
   ]
  },
  {
   "cell_type": "code",
   "execution_count": 104,
   "id": "47071ec6-731d-4737-8771-5a9aeec6558a",
   "metadata": {},
   "outputs": [],
   "source": [
    "from sklearn.preprocessing import OrdinalEncoder\n",
    "oe = OrdinalEncoder(categories=[['Preschool','1st-4th','5th-6th','7th-8th', '9th', '10th', '11th','12th','HS-grad', 'Some-college', 'Assoc-voc', 'Assoc-acdm', 'Bachelors','Masters', 'Prof-school','Doctorate']])"
   ]
  },
  {
   "cell_type": "code",
   "execution_count": 105,
   "id": "55763ef9-4769-47fd-9d61-1241cc09ba14",
   "metadata": {},
   "outputs": [],
   "source": [
    "df['education'] = oe.fit_transform(df[['education']])"
   ]
  },
  {
   "cell_type": "markdown",
   "id": "de0444f2-a078-4ce9-83ae-61f23f6fc7a8",
   "metadata": {},
   "source": [
    " "
   ]
  },
  {
   "cell_type": "markdown",
   "id": "8d33d558-c3ce-478e-b3b8-0594a76709ca",
   "metadata": {},
   "source": [
    "#### 5: Target Encoding : This can cause data leakage [our target here is 'income']"
   ]
  },
  {
   "cell_type": "code",
   "execution_count": 106,
   "id": "3677f934-9115-4e4c-93a9-2de97ce1e5f3",
   "metadata": {},
   "outputs": [],
   "source": [
    "mean_map = df.groupby('occupation')['income'].mean()\n",
    "df['occupation'] = df['occupation'].map(mean_map)"
   ]
  },
  {
   "cell_type": "markdown",
   "id": "eb6fed2a-ca98-428c-93b4-88d4fb011f50",
   "metadata": {},
   "source": [
    " "
   ]
  },
  {
   "cell_type": "markdown",
   "id": "9195acb1-c430-485c-8b7e-3ae96ac1ea58",
   "metadata": {},
   "source": [
    "#### 6. Frequency Encoding: This do not have any relation with the target"
   ]
  },
  {
   "cell_type": "code",
   "execution_count": 107,
   "id": "44ee830a-7234-424d-b8f8-8478892709e8",
   "metadata": {},
   "outputs": [],
   "source": [
    "freq_map = df['native-country'].value_counts()\n",
    "df['native-country'] = df['native-country'].map(freq_map)"
   ]
  },
  {
   "cell_type": "markdown",
   "id": "f0368887-5d88-4584-9919-f55e1ef874df",
   "metadata": {},
   "source": [
    " "
   ]
  },
  {
   "cell_type": "markdown",
   "id": "4818cbff-fde5-4874-9caf-c9515e4f41a4",
   "metadata": {},
   "source": [
    "## 5. Feature Scaling\n",
    "    - MinMaxScaling: When distribution is uneven, should be no outliers in data\n",
    "    - StandardScaler: When distibution is Normal/Gaussian, should be no outliers in data\n",
    "    - RobustScaler: When extreme outliers are present..........[ not for distance based model]\n",
    "    - log1p + another scaler : When data is skewed [right skewed], but not extreme outliers"
   ]
  },
  {
   "cell_type": "code",
   "execution_count": 25,
   "id": "d19166c0-2ff8-44c0-bebb-91c615e49aed",
   "metadata": {},
   "outputs": [],
   "source": [
    "df = pd.read_csv('Wine.csv')"
   ]
  },
  {
   "cell_type": "code",
   "execution_count": 26,
   "id": "f928cfd0-6a51-48df-ba4a-db5bb56ecd7b",
   "metadata": {
    "scrolled": true
   },
   "outputs": [
    {
     "name": "stdout",
     "output_type": "stream",
     "text": [
      "<class 'pandas.core.frame.DataFrame'>\n",
      "RangeIndex: 178 entries, 0 to 177\n",
      "Data columns (total 14 columns):\n",
      " #   Column                Non-Null Count  Dtype  \n",
      "---  ------                --------------  -----  \n",
      " 0   Alcohol               178 non-null    float64\n",
      " 1   Malic_Acid            178 non-null    float64\n",
      " 2   Ash                   178 non-null    float64\n",
      " 3   Ash_Alcanity          178 non-null    float64\n",
      " 4   Magnesium             178 non-null    int64  \n",
      " 5   Total_Phenols         178 non-null    float64\n",
      " 6   Flavanoids            178 non-null    float64\n",
      " 7   Nonflavanoid_Phenols  178 non-null    float64\n",
      " 8   Proanthocyanins       178 non-null    float64\n",
      " 9   Color_Intensity       178 non-null    float64\n",
      " 10  Hue                   178 non-null    float64\n",
      " 11  OD280                 178 non-null    float64\n",
      " 12  Proline               178 non-null    int64  \n",
      " 13  Customer_Segment      178 non-null    int64  \n",
      "dtypes: float64(11), int64(3)\n",
      "memory usage: 19.6 KB\n"
     ]
    }
   ],
   "source": [
    "df.info()"
   ]
  },
  {
   "cell_type": "code",
   "execution_count": 27,
   "id": "1a10f9e2-1c71-4998-a9a5-cfcd9b12bc9e",
   "metadata": {},
   "outputs": [
    {
     "data": {
      "text/plain": [
       "array([1, 2, 3], dtype=int64)"
      ]
     },
     "execution_count": 27,
     "metadata": {},
     "output_type": "execute_result"
    }
   ],
   "source": [
    "df['Customer_Segment'].unique()"
   ]
  },
  {
   "cell_type": "markdown",
   "id": "7ae16f16-5a00-4da8-a003-4d8498f2471a",
   "metadata": {},
   "source": [
    "Intial check for the distribution of the variables is important"
   ]
  },
  {
   "cell_type": "code",
   "execution_count": 30,
   "id": "44fcab05-8fcf-49b4-8c48-17df2131ef79",
   "metadata": {},
   "outputs": [
    {
     "data": {
      "text/plain": [
       "(11.03, 14.83)"
      ]
     },
     "execution_count": 30,
     "metadata": {},
     "output_type": "execute_result"
    }
   ],
   "source": [
    "df['Alcohol'].min(), df['Alcohol'].max()"
   ]
  },
  {
   "cell_type": "code",
   "execution_count": 32,
   "id": "07dc9f48-65d6-4838-bfac-1cf6016a4694",
   "metadata": {},
   "outputs": [
    {
     "data": {
      "text/plain": [
       "<Axes: xlabel='Alcohol', ylabel='Count'>"
      ]
     },
     "execution_count": 32,
     "metadata": {},
     "output_type": "execute_result"
    },
    {
     "data": {
      "image/png": "[encoded data removed]",
      "text/plain": [
       "<Figure size 640x480 with 1 Axes>"
      ]
     },
     "metadata": {},
     "output_type": "display_data"
    }
   ],
   "source": [
    "sns.histplot(df['Alcohol'], kde=True)"
   ]
  },
  {
   "cell_type": "code",
   "execution_count": 155,
   "id": "48e9c299-705c-4e86-b2fd-af3e04f89b93",
   "metadata": {},
   "outputs": [
    {
     "data": {
      "text/plain": [
       "0.6057231291674829"
      ]
     },
     "execution_count": 155,
     "metadata": {},
     "output_type": "execute_result"
    }
   ],
   "source": [
    "df['Magnesium'].skew()"
   ]
  },
  {
   "cell_type": "code",
   "execution_count": 156,
   "id": "c77cda4d-9143-489d-a171-e2be32cdef78",
   "metadata": {},
   "outputs": [
    {
     "data": {
      "text/plain": [
       "<Axes: ylabel='Magnesium'>"
      ]
     },
     "execution_count": 156,
     "metadata": {},
     "output_type": "execute_result"
    },
    {
     "data": {
      "image/png": "[encoded data removed]",
      "text/plain": [
       "<Figure size 640x480 with 1 Axes>"
      ]
     },
     "metadata": {},
     "output_type": "display_data"
    }
   ],
   "source": [
    "sns.boxplot(df['Magnesium'])"
   ]
  },
  {
   "cell_type": "markdown",
   "id": "26a4cf74-10af-4390-9b4f-99fce499df94",
   "metadata": {},
   "source": [
    "#### 1: MinMaxScaling : need to remove the outliers"
   ]
  },
  {
   "cell_type": "code",
   "execution_count": 132,
   "id": "e02abb14-e3b0-4618-89d0-866972287225",
   "metadata": {},
   "outputs": [],
   "source": [
    "from sklearn.preprocessing import MinMaxScaler\n",
    "ms = MinMaxScaler()"
   ]
  },
  {
   "cell_type": "code",
   "execution_count": 133,
   "id": "062026ac-2892-49ea-94c4-b6a97f743272",
   "metadata": {},
   "outputs": [],
   "source": [
    "df['Total_Phenols'] = ms.fit_transform(df[['Total_Phenols']])"
   ]
  },
  {
   "cell_type": "code",
   "execution_count": 134,
   "id": "1d5c806e-e440-4015-bc16-283070c74760",
   "metadata": {},
   "outputs": [],
   "source": [
    "df['Flavanoids'] = ms.fit_transform(df[['Flavanoids']])"
   ]
  },
  {
   "cell_type": "code",
   "execution_count": 135,
   "id": "37d7ee04-8dc9-4b49-a0ee-2e113ba41f66",
   "metadata": {},
   "outputs": [],
   "source": [
    "df['Nonflavanoid_Phenols'] = ms.fit_transform(df[['Nonflavanoid_Phenols']])"
   ]
  },
  {
   "cell_type": "code",
   "execution_count": 136,
   "id": "77eb34bc-7655-4da1-8cc9-79ef3748c69c",
   "metadata": {},
   "outputs": [],
   "source": [
    "df['OD280'] = ms.fit_transform(df[['OD280']])"
   ]
  },
  {
   "cell_type": "markdown",
   "id": "791414c4-d20f-4bc9-8b63-e465fdd449aa",
   "metadata": {},
   "source": [
    "#### 2. Standard Scaling : need to remove outliers"
   ]
  },
  {
   "cell_type": "code",
   "execution_count": 137,
   "id": "d20e4e98-03ff-4ad7-a15e-8f98ba92d949",
   "metadata": {},
   "outputs": [],
   "source": [
    "from sklearn.preprocessing import StandardScaler\n",
    "ss = StandardScaler()"
   ]
  },
  {
   "cell_type": "code",
   "execution_count": 138,
   "id": "17de0298-844c-4af3-88a4-dcc32aa05fbe",
   "metadata": {},
   "outputs": [],
   "source": [
    "# no outliers\n",
    "df.Alcohol = ss.fit_transform(df[['Alcohol']])"
   ]
  },
  {
   "cell_type": "code",
   "execution_count": 139,
   "id": "32379021-8cd6-4bfb-a79e-e10f21b259e0",
   "metadata": {},
   "outputs": [],
   "source": [
    "# outliers dont seem to be errorsome\n",
    "df.Ash = ss.fit_transform(df[['Ash']])\n",
    "df['Ash_Alcanity'] = ss.fit_transform(df[['Ash_Alcanity']])\n",
    "df['Proanthocyanins'] = ss.fit_transform(df[['Proanthocyanins']])\n",
    "df['Proline'] = ss.fit(df[['Proline']])"
   ]
  },
  {
   "cell_type": "markdown",
   "id": "c1cd39aa-4b7c-4cfe-9c8f-e0d69dc8127c",
   "metadata": {},
   "source": [
    "#### 3. RobustScaler"
   ]
  },
  {
   "cell_type": "code",
   "execution_count": 140,
   "id": "1c318e99-b713-4def-8b43-acbda496a109",
   "metadata": {},
   "outputs": [],
   "source": [
    "from sklearn.preprocessing import RobustScaler\n",
    "rs = RobustScaler()"
   ]
  },
  {
   "cell_type": "code",
   "execution_count": 141,
   "id": "75140963-933b-4d31-a951-47aa35691031",
   "metadata": {},
   "outputs": [],
   "source": [
    "df['Color_Intensity'] = rs.fit_transform(df[['Color_Intensity']])"
   ]
  },
  {
   "cell_type": "code",
   "execution_count": 145,
   "id": "518fdbb2-2063-45a6-bea4-e56a9594c8b7",
   "metadata": {},
   "outputs": [],
   "source": [
    "df['Hue'] = rs.fit_transform(df[['Hue']])"
   ]
  },
  {
   "cell_type": "markdown",
   "id": "76801736-dc15-4530-aeb7-454d91c9aa4f",
   "metadata": {},
   "source": [
    "#### 4. log1p + another scaler"
   ]
  },
  {
   "cell_type": "code",
   "execution_count": 149,
   "id": "d17fdf33-fcde-4807-a2ee-83170e466666",
   "metadata": {},
   "outputs": [],
   "source": [
    "df.Malic_Acid = np.log1p(df.Malic_Acid)\n",
    "df.Malic_Acid = rs.fit_transform(df[['Malic_Acid']])"
   ]
  },
  {
   "cell_type": "code",
   "execution_count": 150,
   "id": "2126581f-e97a-4ff6-af4b-07ae4946875e",
   "metadata": {},
   "outputs": [],
   "source": [
    "df.Magnesium = np.log1p(df.Magnesium)\n",
    "df.Magnesium = ss.fit_transform(df[['Magnesium']])"
   ]
  },
  {
   "cell_type": "markdown",
   "id": "7edc324b-941d-4edf-9230-96908df08889",
   "metadata": {},
   "source": [
    " "
   ]
  },
  {
   "cell_type": "markdown",
   "id": "717a4a9f-b864-41cd-9e98-b98e71690fef",
   "metadata": {},
   "source": [
    "## 6. Final Outliers Check\n",
    "    [ Same as step 03 ]"
   ]
  },
  {
   "cell_type": "markdown",
   "id": "b3425de3-6ddd-401d-a74b-f74eefa005ad",
   "metadata": {},
   "source": [
    " "
   ]
  },
  {
   "cell_type": "markdown",
   "id": "251927b6-08cb-4d16-b4a9-b2d310a4e1be",
   "metadata": {},
   "source": [
    "## 7. PCA and LDA\n",
    "    - Principle Component Analysis: Unlabelled \n",
    "    - Linear Discriminant Analysis: Labelled\n",
    "    - t-SNE/UMAP: Only to visualize the into 2d/3d. and UMAP is rarely used for transform.\n",
    "    - Auto Encoders: Uses Neural Networks to shrink the dataset"
   ]
  },
  {
   "cell_type": "code",
   "execution_count": 44,
   "id": "60eeedba-c2f8-4905-bdea-dd3e353a5346",
   "metadata": {},
   "outputs": [],
   "source": [
    "df = pd.read_csv('Iris.csv')"
   ]
  },
  {
   "cell_type": "code",
   "execution_count": 45,
   "id": "8c34f56d-6a12-4647-90c6-196d86533937",
   "metadata": {},
   "outputs": [
    {
     "name": "stdout",
     "output_type": "stream",
     "text": [
      "<class 'pandas.core.frame.DataFrame'>\n",
      "RangeIndex: 150 entries, 0 to 149\n",
      "Data columns (total 6 columns):\n",
      " #   Column         Non-Null Count  Dtype  \n",
      "---  ------         --------------  -----  \n",
      " 0   Id             150 non-null    int64  \n",
      " 1   SepalLengthCm  150 non-null    float64\n",
      " 2   SepalWidthCm   150 non-null    float64\n",
      " 3   PetalLengthCm  150 non-null    float64\n",
      " 4   PetalWidthCm   150 non-null    float64\n",
      " 5   Species        150 non-null    object \n",
      "dtypes: float64(4), int64(1), object(1)\n",
      "memory usage: 7.2+ KB\n"
     ]
    }
   ],
   "source": [
    "df.info()"
   ]
  },
  {
   "cell_type": "code",
   "execution_count": 46,
   "id": "f23d3b00-c0b8-4664-b141-bbffb58be93e",
   "metadata": {},
   "outputs": [],
   "source": [
    "df = df.set_index('Id')"
   ]
  },
  {
   "cell_type": "markdown",
   "id": "94528a8f-90b5-47aa-9fd2-1146407e369f",
   "metadata": {},
   "source": [
    "Initial Check of Features"
   ]
  },
  {
   "cell_type": "code",
   "execution_count": 47,
   "id": "24bd765f-c9c8-407a-bc44-61b223474354",
   "metadata": {},
   "outputs": [
    {
     "data": {
      "text/plain": [
       "<Axes: xlabel='PetalWidthCm', ylabel='PetalLengthCm'>"
      ]
     },
     "execution_count": 47,
     "metadata": {},
     "output_type": "execute_result"
    },
    {
     "data": {
      "image/png": "[encoded data removed]",
      "text/plain": [
       "<Figure size 1500x1000 with 6 Axes>"
      ]
     },
     "metadata": {},
     "output_type": "display_data"
    }
   ],
   "source": [
    "plt.figure(figsize=(15,10))\n",
    "plt.subplot(2,3,1)\n",
    "sns.scatterplot(x=df['SepalLengthCm'], y=df['SepalWidthCm'], hue=df['Species'])\n",
    "plt.subplot(2,3,2)\n",
    "sns.scatterplot(x=df['SepalLengthCm'], y=df['PetalLengthCm'],hue=df['Species'])\n",
    "plt.subplot(2,3,3)\n",
    "sns.scatterplot(x=df['SepalLengthCm'],y=df['PetalWidthCm'],hue=df['Species'])\n",
    "plt.subplot(2,3,4)\n",
    "sns.scatterplot(x=df['SepalWidthCm'],y=df['PetalLengthCm'],hue=df['Species'])\n",
    "plt.subplot(2,3,5)\n",
    "sns.scatterplot(x=df['SepalWidthCm'],y=df['PetalWidthCm'],hue=df['Species'])\n",
    "plt.subplot(2,3,6)\n",
    "sns.scatterplot(x=df['PetalWidthCm'], y=df['PetalLengthCm'],hue=df['Species'])"
   ]
  },
  {
   "cell_type": "code",
   "execution_count": 48,
   "id": "6ef2f972-2d0c-4145-ab4e-e1c2d9a03c86",
   "metadata": {},
   "outputs": [],
   "source": [
    "from sklearn.preprocessing import StandardScaler\n",
    "ss = StandardScaler()"
   ]
  },
  {
   "cell_type": "code",
   "execution_count": 49,
   "id": "88e7b8fb-8641-4123-8530-81d224dd1f43",
   "metadata": {},
   "outputs": [],
   "source": [
    "X = df.iloc[:,:-1]\n",
    "X = ss.fit_transform(X)"
   ]
  },
  {
   "cell_type": "code",
   "execution_count": 50,
   "id": "3bc17430-a155-4838-a764-a52b6adc3641",
   "metadata": {},
   "outputs": [],
   "source": [
    "from sklearn.decomposition import PCA\n",
    "pca = PCA(n_components=2)"
   ]
  },
  {
   "cell_type": "code",
   "execution_count": 51,
   "id": "c97a2bdb-4936-4565-9513-cb609ba22f04",
   "metadata": {},
   "outputs": [
    {
     "data": {
      "text/plain": [
       "array([[-2.26454173e+00,  5.05703903e-01],\n",
       "       [-2.08642550e+00, -6.55404729e-01],\n",
       "       [-2.36795045e+00, -3.18477311e-01],\n",
       "       [-2.30419716e+00, -5.75367713e-01],\n",
       "       [-2.38877749e+00,  6.74767397e-01],\n",
       "       [-2.07053681e+00,  1.51854856e+00],\n",
       "       [-2.44571134e+00,  7.45626750e-02],\n",
       "       [-2.23384186e+00,  2.47613932e-01],\n",
       "       [-2.34195768e+00, -1.09514636e+00],\n",
       "       [-2.18867576e+00, -4.48629048e-01],\n",
       "       [-2.16348656e+00,  1.07059558e+00],\n",
       "       [-2.32737775e+00,  1.58587455e-01],\n",
       "       [-2.22408272e+00, -7.09118158e-01],\n",
       "       [-2.63971626e+00, -9.38281982e-01],\n",
       "       [-2.19229151e+00,  1.88997851e+00],\n",
       "       [-2.25146521e+00,  2.72237108e+00],\n",
       "       [-2.20275048e+00,  1.51375028e+00],\n",
       "       [-2.19017916e+00,  5.14304308e-01],\n",
       "       [-1.89407429e+00,  1.43111071e+00],\n",
       "       [-2.33994907e+00,  1.15803343e+00],\n",
       "       [-1.91455639e+00,  4.30465163e-01],\n",
       "       [-2.20464540e+00,  9.52457317e-01],\n",
       "       [-2.77416979e+00,  4.89517027e-01],\n",
       "       [-1.82041156e+00,  1.06750793e-01],\n",
       "       [-2.22821750e+00,  1.62186163e-01],\n",
       "       [-1.95702401e+00, -6.07892567e-01],\n",
       "       [-2.05206331e+00,  2.66014312e-01],\n",
       "       [-2.16819365e+00,  5.52016495e-01],\n",
       "       [-2.14030596e+00,  3.36640409e-01],\n",
       "       [-2.26879019e+00, -3.14878603e-01],\n",
       "       [-2.14455443e+00, -4.83942097e-01],\n",
       "       [-1.83193810e+00,  4.45266836e-01],\n",
       "       [-2.60820287e+00,  1.82847519e+00],\n",
       "       [-2.43795086e+00,  2.18539162e+00],\n",
       "       [-2.18867576e+00, -4.48629048e-01],\n",
       "       [-2.21111990e+00, -1.84337811e-01],\n",
       "       [-2.04441652e+00,  6.84956426e-01],\n",
       "       [-2.18867576e+00, -4.48629048e-01],\n",
       "       [-2.43595220e+00, -8.82169415e-01],\n",
       "       [-2.17054720e+00,  2.92726955e-01],\n",
       "       [-2.28652724e+00,  4.67991716e-01],\n",
       "       [-1.87170722e+00, -2.32769161e+00],\n",
       "       [-2.55783442e+00, -4.53816380e-01],\n",
       "       [-1.96427929e+00,  4.97391640e-01],\n",
       "       [-2.13337283e+00,  1.17143211e+00],\n",
       "       [-2.07535759e+00, -6.91917347e-01],\n",
       "       [-2.38125822e+00,  1.15063259e+00],\n",
       "       [-2.39819169e+00, -3.62390765e-01],\n",
       "       [-2.22678121e+00,  1.02548255e+00],\n",
       "       [-2.20595417e+00,  3.22378453e-02],\n",
       "       [ 1.10399365e+00,  8.63112446e-01],\n",
       "       [ 7.32481440e-01,  5.98635573e-01],\n",
       "       [ 1.24210951e+00,  6.14822450e-01],\n",
       "       [ 3.97307283e-01, -1.75816895e+00],\n",
       "       [ 1.07259395e+00, -2.11757903e-01],\n",
       "       [ 3.84458146e-01, -5.91062469e-01],\n",
       "       [ 7.48715076e-01,  7.78698611e-01],\n",
       "       [-4.97863388e-01, -1.84886877e+00],\n",
       "       [ 9.26222368e-01,  3.03308268e-02],\n",
       "       [ 4.96802558e-03, -1.02940111e+00],\n",
       "       [-1.24697461e-01, -2.65806268e+00],\n",
       "       [ 4.38730118e-01, -5.88812850e-02],\n",
       "       [ 5.51633981e-01, -1.77258156e+00],\n",
       "       [ 7.17165066e-01, -1.85434315e-01],\n",
       "       [-3.72583830e-02, -4.32795099e-01],\n",
       "       [ 8.75890536e-01,  5.09998151e-01],\n",
       "       [ 3.48006402e-01, -1.90621647e-01],\n",
       "       [ 1.53392545e-01, -7.90725456e-01],\n",
       "       [ 1.21530321e+00, -1.63335564e+00],\n",
       "       [ 1.56941176e-01, -1.30310327e+00],\n",
       "       [ 7.38256104e-01,  4.02470382e-01],\n",
       "       [ 4.72369682e-01, -4.16608222e-01],\n",
       "       [ 1.22798821e+00, -9.40914793e-01],\n",
       "       [ 6.29381045e-01, -4.16811643e-01],\n",
       "       [ 7.00472799e-01, -6.34939277e-02],\n",
       "       [ 8.73536987e-01,  2.50708611e-01],\n",
       "       [ 1.25422219e+00, -8.26200998e-02],\n",
       "       [ 1.35823985e+00,  3.28820266e-01],\n",
       "       [ 6.62126138e-01, -2.24346071e-01],\n",
       "       [-4.72815133e-02, -1.05721241e+00],\n",
       "       [ 1.21534209e-01, -1.56359238e+00],\n",
       "       [ 1.41182261e-02, -1.57339235e+00],\n",
       "       [ 2.36010837e-01, -7.75923784e-01],\n",
       "       [ 1.05669143e+00, -6.36901284e-01],\n",
       "       [ 2.21417088e-01, -2.80847693e-01],\n",
       "       [ 4.31783161e-01,  8.55136920e-01],\n",
       "       [ 1.04941336e+00,  5.22197265e-01],\n",
       "       [ 1.03587821e+00, -1.39246648e+00],\n",
       "       [ 6.70675999e-02, -2.12620735e-01],\n",
       "       [ 2.75425066e-01, -1.32981591e+00],\n",
       "       [ 2.72335066e-01, -1.11944152e+00],\n",
       "       [ 6.23170540e-01,  2.75426333e-02],\n",
       "       [ 3.30005364e-01, -9.88900732e-01],\n",
       "       [-3.73627623e-01, -2.01793227e+00],\n",
       "       [ 2.82944343e-01, -8.53950717e-01],\n",
       "       [ 8.90531103e-02, -1.74908548e-01],\n",
       "       [ 2.24356783e-01, -3.80484659e-01],\n",
       "       [ 5.73883486e-01, -1.53719974e-01],\n",
       "       [-4.57012873e-01, -1.53946451e+00],\n",
       "       [ 2.52244473e-01, -5.95860746e-01],\n",
       "       [ 1.84767259e+00,  8.71696662e-01],\n",
       "       [ 1.15318981e+00, -7.01326114e-01],\n",
       "       [ 2.20634950e+00,  5.54470105e-01],\n",
       "       [ 1.43868540e+00, -5.00105223e-02],\n",
       "       [ 1.86789070e+00,  2.91192802e-01],\n",
       "       [ 2.75419671e+00,  7.88432206e-01],\n",
       "       [ 3.58374475e-01, -1.56009458e+00],\n",
       "       [ 2.30300590e+00,  4.09516695e-01],\n",
       "       [ 2.00173530e+00, -7.23865359e-01],\n",
       "       [ 2.26755460e+00,  1.92144299e+00],\n",
       "       [ 1.36590943e+00,  6.93948040e-01],\n",
       "       [ 1.59906459e+00, -4.28248836e-01],\n",
       "       [ 1.88425185e+00,  4.14332758e-01],\n",
       "       [ 1.25308651e+00, -1.16739134e+00],\n",
       "       [ 1.46406152e+00, -4.44147569e-01],\n",
       "       [ 1.59180930e+00,  6.77035372e-01],\n",
       "       [ 1.47128019e+00,  2.53192472e-01],\n",
       "       [ 2.43737848e+00,  2.55675734e+00],\n",
       "       [ 3.30914118e+00, -2.36132010e-03],\n",
       "       [ 1.25398099e+00, -1.71758384e+00],\n",
       "       [ 2.04049626e+00,  9.07398765e-01],\n",
       "       [ 9.73915114e-01, -5.71174376e-01],\n",
       "       [ 2.89806444e+00,  3.97791359e-01],\n",
       "       [ 1.32919369e+00, -4.86760542e-01],\n",
       "       [ 1.70424071e+00,  1.01414842e+00],\n",
       "       [ 1.95772766e+00,  1.00333452e+00],\n",
       "       [ 1.17190451e+00, -3.18896617e-01],\n",
       "       [ 1.01978105e+00,  6.55429631e-02],\n",
       "       [ 1.78600886e+00, -1.93272800e-01],\n",
       "       [ 1.86477791e+00,  5.55381532e-01],\n",
       "       [ 2.43549739e+00,  2.46654468e-01],\n",
       "       [ 2.31608241e+00,  2.62618387e+00],\n",
       "       [ 1.86037143e+00, -1.84672394e-01],\n",
       "       [ 1.11127173e+00, -2.95986102e-01],\n",
       "       [ 1.19746916e+00, -8.17167742e-01],\n",
       "       [ 2.80094940e+00,  8.44748194e-01],\n",
       "       [ 1.58015525e+00,  1.07247450e+00],\n",
       "       [ 1.34704442e+00,  4.22255966e-01],\n",
       "       [ 9.23432978e-01,  1.92303705e-02],\n",
       "       [ 1.85355198e+00,  6.72422729e-01],\n",
       "       [ 2.01615720e+00,  6.10397038e-01],\n",
       "       [ 1.90311686e+00,  6.86024832e-01],\n",
       "       [ 1.15318981e+00, -7.01326114e-01],\n",
       "       [ 2.04330844e+00,  8.64684880e-01],\n",
       "       [ 2.00169097e+00,  1.04855005e+00],\n",
       "       [ 1.87052207e+00,  3.82821838e-01],\n",
       "       [ 1.55849189e+00, -9.05313601e-01],\n",
       "       [ 1.52084506e+00,  2.66794575e-01],\n",
       "       [ 1.37639119e+00,  1.01636193e+00],\n",
       "       [ 9.59298576e-01, -2.22839447e-02]])"
      ]
     },
     "execution_count": 51,
     "metadata": {},
     "output_type": "execute_result"
    }
   ],
   "source": [
    "X_pca = pca.fit_transform(X)\n",
    "X_pca"
   ]
  },
  {
   "cell_type": "code",
   "execution_count": 52,
   "id": "56f889d0-ebb4-40e5-9beb-410870b47c50",
   "metadata": {},
   "outputs": [
    {
     "data": {
      "text/plain": [
       "<Axes: >"
      ]
     },
     "execution_count": 52,
     "metadata": {},
     "output_type": "execute_result"
    },
    {
     "data": {
      "image/png": "[encoded data removed]",
      "text/plain": [
       "<Figure size 640x480 with 1 Axes>"
      ]
     },
     "metadata": {},
     "output_type": "display_data"
    }
   ],
   "source": [
    "sns.scatterplot(x=X_pca[:,0], y=X_pca[:,1], hue=df['Species'])"
   ]
  },
  {
   "cell_type": "code",
   "execution_count": 44,
   "id": "a4d124bd-9e6c-4e16-9337-2b0203c7954c",
   "metadata": {},
   "outputs": [],
   "source": [
    "from sklearn.discriminant_analysis import LinearDiscriminantAnalysis as LDA"
   ]
  },
  {
   "cell_type": "code",
   "execution_count": 45,
   "id": "150427f8-8a77-4d61-b2d4-4f2676e8b269",
   "metadata": {},
   "outputs": [],
   "source": [
    "ld = LDA(n_components=2)"
   ]
  },
  {
   "cell_type": "code",
   "execution_count": 51,
   "id": "b31cb0c0-2ea5-4d20-95b4-bba77d0fa3e7",
   "metadata": {},
   "outputs": [],
   "source": [
    "X_lda = ld.fit_transform(X, df.iloc[:,-1].values)"
   ]
  },
  {
   "cell_type": "code",
   "execution_count": 53,
   "id": "80312d0d-c16a-48fc-bf8d-57b83e056eba",
   "metadata": {},
   "outputs": [
    {
     "data": {
      "text/plain": [
       "<Axes: >"
      ]
     },
     "execution_count": 53,
     "metadata": {},
     "output_type": "execute_result"
    },
    {
     "data": {
      "image/png": "[encoded data removed]",
      "text/plain": [
       "<Figure size 640x480 with 1 Axes>"
      ]
     },
     "metadata": {},
     "output_type": "display_data"
    }
   ],
   "source": [
    "sns.scatterplot(x=X_lda[:,0], y=X_lda[:,1], hue=df['Species'])"
   ]
  },
  {
   "cell_type": "markdown",
   "id": "2ef50a6a-9b15-4caa-b387-507ab07f4e4e",
   "metadata": {},
   "source": [
    " "
   ]
  },
  {
   "cell_type": "markdown",
   "id": "a5962864-4ab5-4af7-96eb-30fb71e13274",
   "metadata": {},
   "source": [
    "## 8. Date and Time Feature Engineering\n",
    "    - ** Basic Extraction (day[date], month, year, weekday, hour, is_month_start)\n",
    "    - categorical bucketing (like mapping time stamps to time of day, seasons)\n",
    "    - ** elasped time\n",
    "    - ** cyclic encoding\n",
    "    - ** lag features\n",
    "    - aggregations\n",
    "    - epoch timestamp"
   ]
  },
  {
   "cell_type": "markdown",
   "id": "c957a9db-9741-4769-97a3-1a161eec2b38",
   "metadata": {},
   "source": [
    " "
   ]
  },
  {
   "cell_type": "markdown",
   "id": "fe4f3492-69e5-4efe-8176-821e346ac403",
   "metadata": {},
   "source": [
    "## 9. Exploratory Data Analysis\n",
    "    - It focuses Structure, Quality, Relationship and Pattern.\n",
    "    - Understanding Feature-Target Relationship\n",
    "        Numerical feature:\n",
    "            Regression: Scatterplot\n",
    "            Classification: Boxplot\n",
    "        Categorical feature: Barplot\n",
    "    - Understanding Feature-Feature Relationship\n",
    "        heatmap: to remove or PCA redundant data\n",
    "\n",
    "   *Note*: if there is multicollinearity, use VIF for checking. "
   ]
  },
  {
   "cell_type": "code",
   "execution_count": 3,
   "id": "426f6d04-23f1-4c5e-910e-154972e32d2c",
   "metadata": {},
   "outputs": [],
   "source": [
    "df = pd.read_csv('data_files/titanic.csv')"
   ]
  },
  {
   "cell_type": "code",
   "execution_count": 4,
   "id": "13a9310f-6dc2-4419-bbfc-7064a761579f",
   "metadata": {},
   "outputs": [
    {
     "name": "stdout",
     "output_type": "stream",
     "text": [
      "<class 'pandas.core.frame.DataFrame'>\n",
      "RangeIndex: 891 entries, 0 to 890\n",
      "Data columns (total 15 columns):\n",
      " #   Column       Non-Null Count  Dtype  \n",
      "---  ------       --------------  -----  \n",
      " 0   survived     891 non-null    int64  \n",
      " 1   pclass       891 non-null    int64  \n",
      " 2   sex          891 non-null    object \n",
      " 3   age          714 non-null    float64\n",
      " 4   sibsp        891 non-null    int64  \n",
      " 5   parch        891 non-null    int64  \n",
      " 6   fare         891 non-null    float64\n",
      " 7   embarked     889 non-null    object \n",
      " 8   class        891 non-null    object \n",
      " 9   who          891 non-null    object \n",
      " 10  adult_male   891 non-null    bool   \n",
      " 11  deck         203 non-null    object \n",
      " 12  embark_town  889 non-null    object \n",
      " 13  alive        891 non-null    object \n",
      " 14  alone        891 non-null    bool   \n",
      "dtypes: bool(2), float64(2), int64(4), object(7)\n",
      "memory usage: 92.4+ KB\n"
     ]
    }
   ],
   "source": [
    "df.info()"
   ]
  },
  {
   "cell_type": "code",
   "execution_count": 5,
   "id": "9e7fa10f-7ed3-4c58-964a-4b5a91e6e3b0",
   "metadata": {},
   "outputs": [
    {
     "data": {
      "text/html": [
       "<div>\n",
       "<style scoped>\n",
       "    .dataframe tbody tr th:only-of-type {\n",
       "        vertical-align: middle;\n",
       "    }\n",
       "\n",
       "    .dataframe tbody tr th {\n",
       "        vertical-align: top;\n",
       "    }\n",
       "\n",
       "    .dataframe thead th {\n",
       "        text-align: right;\n",
       "    }\n",
       "</style>\n",
       "<table border=\"1\" class=\"dataframe\">\n",
       "  <thead>\n",
       "    <tr style=\"text-align: right;\">\n",
       "      <th></th>\n",
       "      <th>survived</th>\n",
       "      <th>pclass</th>\n",
       "      <th>age</th>\n",
       "      <th>sibsp</th>\n",
       "      <th>parch</th>\n",
       "      <th>fare</th>\n",
       "    </tr>\n",
       "  </thead>\n",
       "  <tbody>\n",
       "    <tr>\n",
       "      <th>survived</th>\n",
       "      <td>1.000000</td>\n",
       "      <td>-0.338481</td>\n",
       "      <td>-0.077221</td>\n",
       "      <td>-0.035322</td>\n",
       "      <td>0.081629</td>\n",
       "      <td>0.257307</td>\n",
       "    </tr>\n",
       "    <tr>\n",
       "      <th>pclass</th>\n",
       "      <td>-0.338481</td>\n",
       "      <td>1.000000</td>\n",
       "      <td>-0.369226</td>\n",
       "      <td>0.083081</td>\n",
       "      <td>0.018443</td>\n",
       "      <td>-0.549500</td>\n",
       "    </tr>\n",
       "    <tr>\n",
       "      <th>age</th>\n",
       "      <td>-0.077221</td>\n",
       "      <td>-0.369226</td>\n",
       "      <td>1.000000</td>\n",
       "      <td>-0.308247</td>\n",
       "      <td>-0.189119</td>\n",
       "      <td>0.096067</td>\n",
       "    </tr>\n",
       "    <tr>\n",
       "      <th>sibsp</th>\n",
       "      <td>-0.035322</td>\n",
       "      <td>0.083081</td>\n",
       "      <td>-0.308247</td>\n",
       "      <td>1.000000</td>\n",
       "      <td>0.414838</td>\n",
       "      <td>0.159651</td>\n",
       "    </tr>\n",
       "    <tr>\n",
       "      <th>parch</th>\n",
       "      <td>0.081629</td>\n",
       "      <td>0.018443</td>\n",
       "      <td>-0.189119</td>\n",
       "      <td>0.414838</td>\n",
       "      <td>1.000000</td>\n",
       "      <td>0.216225</td>\n",
       "    </tr>\n",
       "    <tr>\n",
       "      <th>fare</th>\n",
       "      <td>0.257307</td>\n",
       "      <td>-0.549500</td>\n",
       "      <td>0.096067</td>\n",
       "      <td>0.159651</td>\n",
       "      <td>0.216225</td>\n",
       "      <td>1.000000</td>\n",
       "    </tr>\n",
       "  </tbody>\n",
       "</table>\n",
       "</div>"
      ],
      "text/plain": [
       "          survived    pclass       age     sibsp     parch      fare\n",
       "survived  1.000000 -0.338481 -0.077221 -0.035322  0.081629  0.257307\n",
       "pclass   -0.338481  1.000000 -0.369226  0.083081  0.018443 -0.549500\n",
       "age      -0.077221 -0.369226  1.000000 -0.308247 -0.189119  0.096067\n",
       "sibsp    -0.035322  0.083081 -0.308247  1.000000  0.414838  0.159651\n",
       "parch     0.081629  0.018443 -0.189119  0.414838  1.000000  0.216225\n",
       "fare      0.257307 -0.549500  0.096067  0.159651  0.216225  1.000000"
      ]
     },
     "execution_count": 5,
     "metadata": {},
     "output_type": "execute_result"
    }
   ],
   "source": [
    "df[['survived','pclass','age', 'sibsp','parch','fare']].corr()"
   ]
  },
  {
   "cell_type": "markdown",
   "id": "7feaf02a-fcaf-403e-a90a-8c34530a0d85",
   "metadata": {},
   "source": [
    "# Inferences\n",
    "1. *pclass* and *fare* are moderately correlated to *survival target*, hence they can be used to show pattern\n",
    "2. *pclass* and *fare* shows signs of multicollinearity.\n",
    "3. *age* with *pclass* and *sibsp* shows acceptable multicollinearity.\n",
    "4. *sibsp* with *parch* are multicollinear"
   ]
  },
  {
   "cell_type": "code",
   "execution_count": 9,
   "id": "742e5e56-5769-4fe8-b6e1-c8961a72fcc4",
   "metadata": {},
   "outputs": [
    {
     "data": {
      "text/plain": [
       "<Axes: >"
      ]
     },
     "execution_count": 9,
     "metadata": {},
     "output_type": "execute_result"
    },
    {
     "data": {
      "image/png": "[encoded data removed]",
      "text/plain": [
       "<Figure size 640x480 with 2 Axes>"
      ]
     },
     "metadata": {},
     "output_type": "display_data"
    }
   ],
   "source": [
    "sns.heatmap(df[['survived','pclass','age', 'sibsp','parch','fare']].corr(), cmap='hot')"
   ]
  },
  {
   "cell_type": "markdown",
   "id": "b8926ce4-c055-4c33-800c-9f01bcc161b7",
   "metadata": {},
   "source": [
    "  "
   ]
  },
  {
   "cell_type": "markdown",
   "id": "d6362e6d-a0e8-4a53-96ac-da67886defd1",
   "metadata": {},
   "source": [
    "## 10. Feature Engineering\n",
    "    - Creating New Features that might help\n",
    "    - Ratios, counts, aggregates\n",
    "    - Domain specific Insights\n",
    "    - Interaction Features\n",
    "*Note: This part specifically depends on analyst and domain of the dataset.*"
   ]
  },
  {
   "cell_type": "markdown",
   "id": "24320cfc-a32a-4a68-a272-f9468042aa6b",
   "metadata": {},
   "source": [
    " "
   ]
  },
  {
   "cell_type": "markdown",
   "id": "0aa9a248-6cf2-49d0-9c7d-9cfdc2c926d1",
   "metadata": {},
   "source": [
    "## 11. Feature Selection\n",
    "    - Remove redundant columns\n",
    "    - Mutual Information (capture non-linear relationship)\n",
    "    - Wrapper Methods\n",
    "        - forward selection (optional)\n",
    "        - backward selection (optional)\n",
    "        - recursive feature elimination\n",
    "    - Models\n",
    "        - Lasso\n",
    "        - Tree Based (Random Forest)\n",
    "        - XGBoost\n",
    "    - SelectKBest"
   ]
  },
  {
   "cell_type": "code",
   "execution_count": 22,
   "id": "f9721603-71ce-45e2-baba-fe99c7c77c0b",
   "metadata": {},
   "outputs": [],
   "source": [
    "df = pd.read_csv('data_files/breast-cancer.csv')"
   ]
  },
  {
   "cell_type": "code",
   "execution_count": 84,
   "id": "4caef68b-dd37-4abd-a3a8-30e8451ff7a1",
   "metadata": {
    "scrolled": true
   },
   "outputs": [
    {
     "name": "stdout",
     "output_type": "stream",
     "text": [
      "<class 'pandas.core.frame.DataFrame'>\n",
      "RangeIndex: 569 entries, 0 to 568\n",
      "Data columns (total 32 columns):\n",
      " #   Column                   Non-Null Count  Dtype  \n",
      "---  ------                   --------------  -----  \n",
      " 0   id                       569 non-null    int64  \n",
      " 1   diagnosis                569 non-null    int64  \n",
      " 2   radius_mean              569 non-null    float64\n",
      " 3   texture_mean             569 non-null    float64\n",
      " 4   perimeter_mean           569 non-null    float64\n",
      " 5   area_mean                569 non-null    float64\n",
      " 6   smoothness_mean          569 non-null    float64\n",
      " 7   compactness_mean         569 non-null    float64\n",
      " 8   concavity_mean           569 non-null    float64\n",
      " 9   concave points_mean      569 non-null    float64\n",
      " 10  symmetry_mean            569 non-null    float64\n",
      " 11  fractal_dimension_mean   569 non-null    float64\n",
      " 12  radius_se                569 non-null    float64\n",
      " 13  texture_se               569 non-null    float64\n",
      " 14  perimeter_se             569 non-null    float64\n",
      " 15  area_se                  569 non-null    float64\n",
      " 16  smoothness_se            569 non-null    float64\n",
      " 17  compactness_se           569 non-null    float64\n",
      " 18  concavity_se             569 non-null    float64\n",
      " 19  concave points_se        569 non-null    float64\n",
      " 20  symmetry_se              569 non-null    float64\n",
      " 21  fractal_dimension_se     569 non-null    float64\n",
      " 22  radius_worst             569 non-null    float64\n",
      " 23  texture_worst            569 non-null    float64\n",
      " 24  perimeter_worst          569 non-null    float64\n",
      " 25  area_worst               569 non-null    float64\n",
      " 26  smoothness_worst         569 non-null    float64\n",
      " 27  compactness_worst        569 non-null    float64\n",
      " 28  concavity_worst          569 non-null    float64\n",
      " 29  concave points_worst     569 non-null    float64\n",
      " 30  symmetry_worst           569 non-null    float64\n",
      " 31  fractal_dimension_worst  569 non-null    float64\n",
      "dtypes: float64(30), int64(2)\n",
      "memory usage: 142.4 KB\n"
     ]
    }
   ],
   "source": [
    "df.info()"
   ]
  },
  {
   "cell_type": "markdown",
   "id": "b88c75a6-1579-4504-b40e-378dc412d7f1",
   "metadata": {},
   "source": [
    "#### 1. Check for multicollinearity > threshold (0.85) and remove such if needed"
   ]
  },
  {
   "cell_type": "code",
   "execution_count": 70,
   "id": "8fddfa07-9f6f-4efe-a52b-62d8bbd8c8bb",
   "metadata": {},
   "outputs": [],
   "source": [
    "corr_matrix = df.select_dtypes(exclude=['object']).corr().abs()"
   ]
  },
  {
   "cell_type": "code",
   "execution_count": 71,
   "id": "f147c75e-63f2-4589-a511-06772859a7a8",
   "metadata": {
    "scrolled": true
   },
   "outputs": [],
   "source": [
    "for i in range(len(corr_matrix)):\n",
    "    corr_matrix.iloc[i,i] = 0"
   ]
  },
  {
   "cell_type": "code",
   "execution_count": 72,
   "id": "91aaa0ac-7b6c-435d-8e4a-0691ed81926e",
   "metadata": {},
   "outputs": [],
   "source": [
    "high_corr_features = [col for col in corr_matrix.columns if any(corr_matrix[col] > 0.85)]"
   ]
  },
  {
   "cell_type": "code",
   "execution_count": 73,
   "id": "2ff92337-e8e2-4cbf-95b3-55d381b0c762",
   "metadata": {},
   "outputs": [
    {
     "name": "stdout",
     "output_type": "stream",
     "text": [
      "radius_mean\n",
      "texture_mean\n",
      "perimeter_mean\n",
      "area_mean\n",
      "compactness_mean\n",
      "concavity_mean\n",
      "concave points_mean\n",
      "radius_se\n",
      "perimeter_se\n",
      "area_se\n",
      "radius_worst\n",
      "texture_worst\n",
      "perimeter_worst\n",
      "area_worst\n",
      "compactness_worst\n",
      "concavity_worst\n",
      "concave points_worst\n"
     ]
    }
   ],
   "source": [
    "for i in high_corr_features:\n",
    "    print(i)"
   ]
  },
  {
   "cell_type": "markdown",
   "id": "ab470872-b2ea-4b69-94eb-7fc1f91184a0",
   "metadata": {},
   "source": [
    "## can remove any out of these, but not wwithout complete evaluation"
   ]
  },
  {
   "cell_type": "markdown",
   "id": "3b66b61d-908c-4e39-b5ac-260b296b8936",
   "metadata": {},
   "source": [
    " "
   ]
  },
  {
   "cell_type": "markdown",
   "id": "301b8281-c139-4f15-9804-71f607786d4d",
   "metadata": {},
   "source": [
    "#### 2. Mutual Information "
   ]
  },
  {
   "cell_type": "code",
   "execution_count": 85,
   "id": "c0f8c9f3-83fc-41de-a24d-d0caa3faf95c",
   "metadata": {},
   "outputs": [],
   "source": [
    "from sklearn.feature_selection import mutual_info_classif"
   ]
  },
  {
   "cell_type": "code",
   "execution_count": 88,
   "id": "d8e54f97-dc90-4624-9192-8e8fc1793e7d",
   "metadata": {},
   "outputs": [],
   "source": [
    "X = df.drop(columns=['id', 'diagnosis'])\n",
    "y = df['diagnosis']\n",
    "mi_scores = mutual_info_classif(X,y)\n",
    "mi_series = pd.Series(mi_scores, index=X.columns).sort_values(ascending=False)"
   ]
  },
  {
   "cell_type": "code",
   "execution_count": 89,
   "id": "b394f245-ce41-4838-b6cc-63fe729e41d2",
   "metadata": {
    "scrolled": true
   },
   "outputs": [
    {
     "data": {
      "text/plain": [
       "perimeter_worst            0.475855\n",
       "area_worst                 0.464925\n",
       "radius_worst               0.452381\n",
       "concave points_mean        0.440935\n",
       "concave points_worst       0.437679\n",
       "perimeter_mean             0.403939\n",
       "concavity_mean             0.372349\n",
       "radius_mean                0.368702\n",
       "area_mean                  0.361365\n",
       "area_se                    0.339412\n",
       "concavity_worst            0.315517\n",
       "perimeter_se               0.276984\n",
       "radius_se                  0.247141\n",
       "compactness_worst          0.226470\n",
       "compactness_mean           0.210852\n",
       "concave points_se          0.126459\n",
       "texture_worst              0.118905\n",
       "concavity_se               0.115067\n",
       "smoothness_worst           0.096673\n",
       "texture_mean               0.096375\n",
       "symmetry_worst             0.091516\n",
       "smoothness_mean            0.076979\n",
       "compactness_se             0.075869\n",
       "fractal_dimension_worst    0.067106\n",
       "symmetry_mean              0.061624\n",
       "fractal_dimension_se       0.037809\n",
       "smoothness_se              0.016873\n",
       "symmetry_se                0.011878\n",
       "fractal_dimension_mean     0.003483\n",
       "texture_se                 0.003437\n",
       "dtype: float64"
      ]
     },
     "execution_count": 89,
     "metadata": {},
     "output_type": "execute_result"
    }
   ],
   "source": [
    "mi_series"
   ]
  },
  {
   "cell_type": "markdown",
   "id": "a1464b04-d29f-4196-9e1e-b83c08991323",
   "metadata": {},
   "source": [
    "## These are top columns to choose for moodel"
   ]
  },
  {
   "cell_type": "markdown",
   "id": "c90ea9f5-00ae-4151-aee1-308d2e01ceda",
   "metadata": {},
   "source": [
    "#### 3. RFE"
   ]
  },
  {
   "cell_type": "code",
   "execution_count": 94,
   "id": "c5a20b08-7b42-43c2-8388-0a9765bb8d21",
   "metadata": {},
   "outputs": [],
   "source": [
    "from sklearn.feature_selection import RFE\n",
    "from sklearn.linear_model import LogisticRegression"
   ]
  },
  {
   "cell_type": "code",
   "execution_count": 100,
   "id": "848ff91f-be5a-4f82-9d41-a584aa8301b8",
   "metadata": {},
   "outputs": [
    {
     "data": {
      "text/html": [
       "<style>#sk-container-id-4 {\n",
       "  /* Definition of color scheme common for light and dark mode */\n",
       "  --sklearn-color-text: #000;\n",
       "  --sklearn-color-text-muted: #666;\n",
       "  --sklearn-color-line: gray;\n",
       "  /* Definition of color scheme for unfitted estimators */\n",
       "  --sklearn-color-unfitted-level-0: #fff5e6;\n",
       "  --sklearn-color-unfitted-level-1: #f6e4d2;\n",
       "  --sklearn-color-unfitted-level-2: #ffe0b3;\n",
       "  --sklearn-color-unfitted-level-3: chocolate;\n",
       "  /* Definition of color scheme for fitted estimators */\n",
       "  --sklearn-color-fitted-level-0: #f0f8ff;\n",
       "  --sklearn-color-fitted-level-1: #d4ebff;\n",
       "  --sklearn-color-fitted-level-2: #b3dbfd;\n",
       "  --sklearn-color-fitted-level-3: cornflowerblue;\n",
       "\n",
       "  /* Specific color for light theme */\n",
       "  --sklearn-color-text-on-default-background: var(--sg-text-color, var(--theme-code-foreground, var(--jp-content-font-color1, black)));\n",
       "  --sklearn-color-background: var(--sg-background-color, var(--theme-background, var(--jp-layout-color0, white)));\n",
       "  --sklearn-color-border-box: var(--sg-text-color, var(--theme-code-foreground, var(--jp-content-font-color1, black)));\n",
       "  --sklearn-color-icon: #696969;\n",
       "\n",
       "  @media (prefers-color-scheme: dark) {\n",
       "    /* Redefinition of color scheme for dark theme */\n",
       "    --sklearn-color-text-on-default-background: var(--sg-text-color, var(--theme-code-foreground, var(--jp-content-font-color1, white)));\n",
       "    --sklearn-color-background: var(--sg-background-color, var(--theme-background, var(--jp-layout-color0, #111)));\n",
       "    --sklearn-color-border-box: var(--sg-text-color, var(--theme-code-foreground, var(--jp-content-font-color1, white)));\n",
       "    --sklearn-color-icon: #878787;\n",
       "  }\n",
       "}\n",
       "\n",
       "#sk-container-id-4 {\n",
       "  color: var(--sklearn-color-text);\n",
       "}\n",
       "\n",
       "#sk-container-id-4 pre {\n",
       "  padding: 0;\n",
       "}\n",
       "\n",
       "#sk-container-id-4 input.sk-hidden--visually {\n",
       "  border: 0;\n",
       "  clip: rect(1px 1px 1px 1px);\n",
       "  clip: rect(1px, 1px, 1px, 1px);\n",
       "  height: 1px;\n",
       "  margin: -1px;\n",
       "  overflow: hidden;\n",
       "  padding: 0;\n",
       "  position: absolute;\n",
       "  width: 1px;\n",
       "}\n",
       "\n",
       "#sk-container-id-4 div.sk-dashed-wrapped {\n",
       "  border: 1px dashed var(--sklearn-color-line);\n",
       "  margin: 0 0.4em 0.5em 0.4em;\n",
       "  box-sizing: border-box;\n",
       "  padding-bottom: 0.4em;\n",
       "  background-color: var(--sklearn-color-background);\n",
       "}\n",
       "\n",
       "#sk-container-id-4 div.sk-container {\n",
       "  /* jupyter's `normalize.less` sets `[hidden] { display: none; }`\n",
       "     but bootstrap.min.css set `[hidden] { display: none !important; }`\n",
       "     so we also need the `!important` here to be able to override the\n",
       "     default hidden behavior on the sphinx rendered scikit-learn.org.\n",
       "     See: https://github.com/scikit-learn/scikit-learn/issues/21755 */\n",
       "  display: inline-block !important;\n",
       "  position: relative;\n",
       "}\n",
       "\n",
       "#sk-container-id-4 div.sk-text-repr-fallback {\n",
       "  display: none;\n",
       "}\n",
       "\n",
       "div.sk-parallel-item,\n",
       "div.sk-serial,\n",
       "div.sk-item {\n",
       "  /* draw centered vertical line to link estimators */\n",
       "  background-image: linear-gradient(var(--sklearn-color-text-on-default-background), var(--sklearn-color-text-on-default-background));\n",
       "  background-size: 2px 100%;\n",
       "  background-repeat: no-repeat;\n",
       "  background-position: center center;\n",
       "}\n",
       "\n",
       "/* Parallel-specific style estimator block */\n",
       "\n",
       "#sk-container-id-4 div.sk-parallel-item::after {\n",
       "  content: \"\";\n",
       "  width: 100%;\n",
       "  border-bottom: 2px solid var(--sklearn-color-text-on-default-background);\n",
       "  flex-grow: 1;\n",
       "}\n",
       "\n",
       "#sk-container-id-4 div.sk-parallel {\n",
       "  display: flex;\n",
       "  align-items: stretch;\n",
       "  justify-content: center;\n",
       "  background-color: var(--sklearn-color-background);\n",
       "  position: relative;\n",
       "}\n",
       "\n",
       "#sk-container-id-4 div.sk-parallel-item {\n",
       "  display: flex;\n",
       "  flex-direction: column;\n",
       "}\n",
       "\n",
       "#sk-container-id-4 div.sk-parallel-item:first-child::after {\n",
       "  align-self: flex-end;\n",
       "  width: 50%;\n",
       "}\n",
       "\n",
       "#sk-container-id-4 div.sk-parallel-item:last-child::after {\n",
       "  align-self: flex-start;\n",
       "  width: 50%;\n",
       "}\n",
       "\n",
       "#sk-container-id-4 div.sk-parallel-item:only-child::after {\n",
       "  width: 0;\n",
       "}\n",
       "\n",
       "/* Serial-specific style estimator block */\n",
       "\n",
       "#sk-container-id-4 div.sk-serial {\n",
       "  display: flex;\n",
       "  flex-direction: column;\n",
       "  align-items: center;\n",
       "  background-color: var(--sklearn-color-background);\n",
       "  padding-right: 1em;\n",
       "  padding-left: 1em;\n",
       "}\n",
       "\n",
       "\n",
       "/* Toggleable style: style used for estimator/Pipeline/ColumnTransformer box that is\n",
       "clickable and can be expanded/collapsed.\n",
       "- Pipeline and ColumnTransformer use this feature and define the default style\n",
       "- Estimators will overwrite some part of the style using the `sk-estimator` class\n",
       "*/\n",
       "\n",
       "/* Pipeline and ColumnTransformer style (default) */\n",
       "\n",
       "#sk-container-id-4 div.sk-toggleable {\n",
       "  /* Default theme specific background. It is overwritten whether we have a\n",
       "  specific estimator or a Pipeline/ColumnTransformer */\n",
       "  background-color: var(--sklearn-color-background);\n",
       "}\n",
       "\n",
       "/* Toggleable label */\n",
       "#sk-container-id-4 label.sk-toggleable__label {\n",
       "  cursor: pointer;\n",
       "  display: flex;\n",
       "  width: 100%;\n",
       "  margin-bottom: 0;\n",
       "  padding: 0.5em;\n",
       "  box-sizing: border-box;\n",
       "  text-align: center;\n",
       "  align-items: start;\n",
       "  justify-content: space-between;\n",
       "  gap: 0.5em;\n",
       "}\n",
       "\n",
       "#sk-container-id-4 label.sk-toggleable__label .caption {\n",
       "  font-size: 0.6rem;\n",
       "  font-weight: lighter;\n",
       "  color: var(--sklearn-color-text-muted);\n",
       "}\n",
       "\n",
       "#sk-container-id-4 label.sk-toggleable__label-arrow:before {\n",
       "  /* Arrow on the left of the label */\n",
       "  content: \"▸\";\n",
       "  float: left;\n",
       "  margin-right: 0.25em;\n",
       "  color: var(--sklearn-color-icon);\n",
       "}\n",
       "\n",
       "#sk-container-id-4 label.sk-toggleable__label-arrow:hover:before {\n",
       "  color: var(--sklearn-color-text);\n",
       "}\n",
       "\n",
       "/* Toggleable content - dropdown */\n",
       "\n",
       "#sk-container-id-4 div.sk-toggleable__content {\n",
       "  display: none;\n",
       "  text-align: left;\n",
       "  /* unfitted */\n",
       "  background-color: var(--sklearn-color-unfitted-level-0);\n",
       "}\n",
       "\n",
       "#sk-container-id-4 div.sk-toggleable__content.fitted {\n",
       "  /* fitted */\n",
       "  background-color: var(--sklearn-color-fitted-level-0);\n",
       "}\n",
       "\n",
       "#sk-container-id-4 div.sk-toggleable__content pre {\n",
       "  margin: 0.2em;\n",
       "  border-radius: 0.25em;\n",
       "  color: var(--sklearn-color-text);\n",
       "  /* unfitted */\n",
       "  background-color: var(--sklearn-color-unfitted-level-0);\n",
       "}\n",
       "\n",
       "#sk-container-id-4 div.sk-toggleable__content.fitted pre {\n",
       "  /* unfitted */\n",
       "  background-color: var(--sklearn-color-fitted-level-0);\n",
       "}\n",
       "\n",
       "#sk-container-id-4 input.sk-toggleable__control:checked~div.sk-toggleable__content {\n",
       "  /* Expand drop-down */\n",
       "  display: block;\n",
       "  width: 100%;\n",
       "  overflow: visible;\n",
       "}\n",
       "\n",
       "#sk-container-id-4 input.sk-toggleable__control:checked~label.sk-toggleable__label-arrow:before {\n",
       "  content: \"▾\";\n",
       "}\n",
       "\n",
       "/* Pipeline/ColumnTransformer-specific style */\n",
       "\n",
       "#sk-container-id-4 div.sk-label input.sk-toggleable__control:checked~label.sk-toggleable__label {\n",
       "  color: var(--sklearn-color-text);\n",
       "  background-color: var(--sklearn-color-unfitted-level-2);\n",
       "}\n",
       "\n",
       "#sk-container-id-4 div.sk-label.fitted input.sk-toggleable__control:checked~label.sk-toggleable__label {\n",
       "  background-color: var(--sklearn-color-fitted-level-2);\n",
       "}\n",
       "\n",
       "/* Estimator-specific style */\n",
       "\n",
       "/* Colorize estimator box */\n",
       "#sk-container-id-4 div.sk-estimator input.sk-toggleable__control:checked~label.sk-toggleable__label {\n",
       "  /* unfitted */\n",
       "  background-color: var(--sklearn-color-unfitted-level-2);\n",
       "}\n",
       "\n",
       "#sk-container-id-4 div.sk-estimator.fitted input.sk-toggleable__control:checked~label.sk-toggleable__label {\n",
       "  /* fitted */\n",
       "  background-color: var(--sklearn-color-fitted-level-2);\n",
       "}\n",
       "\n",
       "#sk-container-id-4 div.sk-label label.sk-toggleable__label,\n",
       "#sk-container-id-4 div.sk-label label {\n",
       "  /* The background is the default theme color */\n",
       "  color: var(--sklearn-color-text-on-default-background);\n",
       "}\n",
       "\n",
       "/* On hover, darken the color of the background */\n",
       "#sk-container-id-4 div.sk-label:hover label.sk-toggleable__label {\n",
       "  color: var(--sklearn-color-text);\n",
       "  background-color: var(--sklearn-color-unfitted-level-2);\n",
       "}\n",
       "\n",
       "/* Label box, darken color on hover, fitted */\n",
       "#sk-container-id-4 div.sk-label.fitted:hover label.sk-toggleable__label.fitted {\n",
       "  color: var(--sklearn-color-text);\n",
       "  background-color: var(--sklearn-color-fitted-level-2);\n",
       "}\n",
       "\n",
       "/* Estimator label */\n",
       "\n",
       "#sk-container-id-4 div.sk-label label {\n",
       "  font-family: monospace;\n",
       "  font-weight: bold;\n",
       "  display: inline-block;\n",
       "  line-height: 1.2em;\n",
       "}\n",
       "\n",
       "#sk-container-id-4 div.sk-label-container {\n",
       "  text-align: center;\n",
       "}\n",
       "\n",
       "/* Estimator-specific */\n",
       "#sk-container-id-4 div.sk-estimator {\n",
       "  font-family: monospace;\n",
       "  border: 1px dotted var(--sklearn-color-border-box);\n",
       "  border-radius: 0.25em;\n",
       "  box-sizing: border-box;\n",
       "  margin-bottom: 0.5em;\n",
       "  /* unfitted */\n",
       "  background-color: var(--sklearn-color-unfitted-level-0);\n",
       "}\n",
       "\n",
       "#sk-container-id-4 div.sk-estimator.fitted {\n",
       "  /* fitted */\n",
       "  background-color: var(--sklearn-color-fitted-level-0);\n",
       "}\n",
       "\n",
       "/* on hover */\n",
       "#sk-container-id-4 div.sk-estimator:hover {\n",
       "  /* unfitted */\n",
       "  background-color: var(--sklearn-color-unfitted-level-2);\n",
       "}\n",
       "\n",
       "#sk-container-id-4 div.sk-estimator.fitted:hover {\n",
       "  /* fitted */\n",
       "  background-color: var(--sklearn-color-fitted-level-2);\n",
       "}\n",
       "\n",
       "/* Specification for estimator info (e.g. \"i\" and \"?\") */\n",
       "\n",
       "/* Common style for \"i\" and \"?\" */\n",
       "\n",
       ".sk-estimator-doc-link,\n",
       "a:link.sk-estimator-doc-link,\n",
       "a:visited.sk-estimator-doc-link {\n",
       "  float: right;\n",
       "  font-size: smaller;\n",
       "  line-height: 1em;\n",
       "  font-family: monospace;\n",
       "  background-color: var(--sklearn-color-background);\n",
       "  border-radius: 1em;\n",
       "  height: 1em;\n",
       "  width: 1em;\n",
       "  text-decoration: none !important;\n",
       "  margin-left: 0.5em;\n",
       "  text-align: center;\n",
       "  /* unfitted */\n",
       "  border: var(--sklearn-color-unfitted-level-1) 1pt solid;\n",
       "  color: var(--sklearn-color-unfitted-level-1);\n",
       "}\n",
       "\n",
       ".sk-estimator-doc-link.fitted,\n",
       "a:link.sk-estimator-doc-link.fitted,\n",
       "a:visited.sk-estimator-doc-link.fitted {\n",
       "  /* fitted */\n",
       "  border: var(--sklearn-color-fitted-level-1) 1pt solid;\n",
       "  color: var(--sklearn-color-fitted-level-1);\n",
       "}\n",
       "\n",
       "/* On hover */\n",
       "div.sk-estimator:hover .sk-estimator-doc-link:hover,\n",
       ".sk-estimator-doc-link:hover,\n",
       "div.sk-label-container:hover .sk-estimator-doc-link:hover,\n",
       ".sk-estimator-doc-link:hover {\n",
       "  /* unfitted */\n",
       "  background-color: var(--sklearn-color-unfitted-level-3);\n",
       "  color: var(--sklearn-color-background);\n",
       "  text-decoration: none;\n",
       "}\n",
       "\n",
       "div.sk-estimator.fitted:hover .sk-estimator-doc-link.fitted:hover,\n",
       ".sk-estimator-doc-link.fitted:hover,\n",
       "div.sk-label-container:hover .sk-estimator-doc-link.fitted:hover,\n",
       ".sk-estimator-doc-link.fitted:hover {\n",
       "  /* fitted */\n",
       "  background-color: var(--sklearn-color-fitted-level-3);\n",
       "  color: var(--sklearn-color-background);\n",
       "  text-decoration: none;\n",
       "}\n",
       "\n",
       "/* Span, style for the box shown on hovering the info icon */\n",
       ".sk-estimator-doc-link span {\n",
       "  display: none;\n",
       "  z-index: 9999;\n",
       "  position: relative;\n",
       "  font-weight: normal;\n",
       "  right: .2ex;\n",
       "  padding: .5ex;\n",
       "  margin: .5ex;\n",
       "  width: min-content;\n",
       "  min-width: 20ex;\n",
       "  max-width: 50ex;\n",
       "  color: var(--sklearn-color-text);\n",
       "  box-shadow: 2pt 2pt 4pt #999;\n",
       "  /* unfitted */\n",
       "  background: var(--sklearn-color-unfitted-level-0);\n",
       "  border: .5pt solid var(--sklearn-color-unfitted-level-3);\n",
       "}\n",
       "\n",
       ".sk-estimator-doc-link.fitted span {\n",
       "  /* fitted */\n",
       "  background: var(--sklearn-color-fitted-level-0);\n",
       "  border: var(--sklearn-color-fitted-level-3);\n",
       "}\n",
       "\n",
       ".sk-estimator-doc-link:hover span {\n",
       "  display: block;\n",
       "}\n",
       "\n",
       "/* \"?\"-specific style due to the `<a>` HTML tag */\n",
       "\n",
       "#sk-container-id-4 a.estimator_doc_link {\n",
       "  float: right;\n",
       "  font-size: 1rem;\n",
       "  line-height: 1em;\n",
       "  font-family: monospace;\n",
       "  background-color: var(--sklearn-color-background);\n",
       "  border-radius: 1rem;\n",
       "  height: 1rem;\n",
       "  width: 1rem;\n",
       "  text-decoration: none;\n",
       "  /* unfitted */\n",
       "  color: var(--sklearn-color-unfitted-level-1);\n",
       "  border: var(--sklearn-color-unfitted-level-1) 1pt solid;\n",
       "}\n",
       "\n",
       "#sk-container-id-4 a.estimator_doc_link.fitted {\n",
       "  /* fitted */\n",
       "  border: var(--sklearn-color-fitted-level-1) 1pt solid;\n",
       "  color: var(--sklearn-color-fitted-level-1);\n",
       "}\n",
       "\n",
       "/* On hover */\n",
       "#sk-container-id-4 a.estimator_doc_link:hover {\n",
       "  /* unfitted */\n",
       "  background-color: var(--sklearn-color-unfitted-level-3);\n",
       "  color: var(--sklearn-color-background);\n",
       "  text-decoration: none;\n",
       "}\n",
       "\n",
       "#sk-container-id-4 a.estimator_doc_link.fitted:hover {\n",
       "  /* fitted */\n",
       "  background-color: var(--sklearn-color-fitted-level-3);\n",
       "}\n",
       "\n",
       ".estimator-table summary {\n",
       "    padding: .5rem;\n",
       "    font-family: monospace;\n",
       "    cursor: pointer;\n",
       "}\n",
       "\n",
       ".estimator-table details[open] {\n",
       "    padding-left: 0.1rem;\n",
       "    padding-right: 0.1rem;\n",
       "    padding-bottom: 0.3rem;\n",
       "}\n",
       "\n",
       ".estimator-table .parameters-table {\n",
       "    margin-left: auto !important;\n",
       "    margin-right: auto !important;\n",
       "}\n",
       "\n",
       ".estimator-table .parameters-table tr:nth-child(odd) {\n",
       "    background-color: #fff;\n",
       "}\n",
       "\n",
       ".estimator-table .parameters-table tr:nth-child(even) {\n",
       "    background-color: #f6f6f6;\n",
       "}\n",
       "\n",
       ".estimator-table .parameters-table tr:hover {\n",
       "    background-color: #e0e0e0;\n",
       "}\n",
       "\n",
       ".estimator-table table td {\n",
       "    border: 1px solid rgba(106, 105, 104, 0.232);\n",
       "}\n",
       "\n",
       ".user-set td {\n",
       "    color:rgb(255, 94, 0);\n",
       "    text-align: left;\n",
       "}\n",
       "\n",
       ".user-set td.value pre {\n",
       "    color:rgb(255, 94, 0) !important;\n",
       "    background-color: transparent !important;\n",
       "}\n",
       "\n",
       ".default td {\n",
       "    color: black;\n",
       "    text-align: left;\n",
       "}\n",
       "\n",
       ".user-set td i,\n",
       ".default td i {\n",
       "    color: black;\n",
       "}\n",
       "\n",
       ".copy-paste-icon {\n",
       "    background-image: url(data:image/svg+xml;base64,PHN2ZyB4bWxucz0iaHR0cDovL3d3dy53My5vcmcvMjAwMC9zdmciIHZpZXdCb3g9IjAgMCA0NDggNTEyIj48IS0tIUZvbnQgQXdlc29tZSBGcmVlIDYuNy4yIGJ5IEBmb250YXdlc29tZSAtIGh0dHBzOi8vZm9udGF3ZXNvbWUuY29tIExpY2Vuc2UgLSBodHRwczovL2ZvbnRhd2Vzb21lLmNvbS9saWNlbnNlL2ZyZWUgQ29weXJpZ2h0IDIwMjUgRm9udGljb25zLCBJbmMuLS0+PHBhdGggZD0iTTIwOCAwTDMzMi4xIDBjMTIuNyAwIDI0LjkgNS4xIDMzLjkgMTQuMWw2Ny45IDY3LjljOSA5IDE0LjEgMjEuMiAxNC4xIDMzLjlMNDQ4IDMzNmMwIDI2LjUtMjEuNSA0OC00OCA0OGwtMTkyIDBjLTI2LjUgMC00OC0yMS41LTQ4LTQ4bDAtMjg4YzAtMjYuNSAyMS41LTQ4IDQ4LTQ4ek00OCAxMjhsODAgMCAwIDY0LTY0IDAgMCAyNTYgMTkyIDAgMC0zMiA2NCAwIDAgNDhjMCAyNi41LTIxLjUgNDgtNDggNDhMNDggNTEyYy0yNi41IDAtNDgtMjEuNS00OC00OEwwIDE3NmMwLTI2LjUgMjEuNS00OCA0OC00OHoiLz48L3N2Zz4=);\n",
       "    background-repeat: no-repeat;\n",
       "    background-size: 14px 14px;\n",
       "    background-position: 0;\n",
       "    display: inline-block;\n",
       "    width: 14px;\n",
       "    height: 14px;\n",
       "    cursor: pointer;\n",
       "}\n",
       "</style><body><div id=\"sk-container-id-4\" class=\"sk-top-container\"><div class=\"sk-text-repr-fallback\"><pre>RFE(estimator=LogisticRegression(max_iter=10000), n_features_to_select=5)</pre><b>In a Jupyter environment, please rerun this cell to show the HTML representation or trust the notebook. <br />On GitHub, the HTML representation is unable to render, please try loading this page with nbviewer.org.</b></div><div class=\"sk-container\" hidden><div class=\"sk-item sk-dashed-wrapped\"><div class=\"sk-label-container\"><div class=\"sk-label fitted sk-toggleable\"><input class=\"sk-toggleable__control sk-hidden--visually\" id=\"sk-estimator-id-10\" type=\"checkbox\" ><label for=\"sk-estimator-id-10\" class=\"sk-toggleable__label fitted sk-toggleable__label-arrow\"><div><div>RFE</div></div><div><a class=\"sk-estimator-doc-link fitted\" rel=\"noreferrer\" target=\"_blank\" href=\"https://scikit-learn.org/1.7/modules/generated/sklearn.feature_selection.RFE.html\">?<span>Documentation for RFE</span></a><span class=\"sk-estimator-doc-link fitted\">i<span>Fitted</span></span></div></label><div class=\"sk-toggleable__content fitted\" data-param-prefix=\"\">\n",
       "        <div class=\"estimator-table\">\n",
       "            <details>\n",
       "                <summary>Parameters</summary>\n",
       "                <table class=\"parameters-table\">\n",
       "                  <tbody>\n",
       "                    \n",
       "        <tr class=\"user-set\">\n",
       "            <td><i class=\"copy-paste-icon\"\n",
       "                 onclick=\"copyToClipboard('estimator',\n",
       "                          this.parentElement.nextElementSibling)\"\n",
       "            ></i></td>\n",
       "            <td class=\"param\">estimator&nbsp;</td>\n",
       "            <td class=\"value\">LogisticRegre...ax_iter=10000)</td>\n",
       "        </tr>\n",
       "    \n",
       "\n",
       "        <tr class=\"user-set\">\n",
       "            <td><i class=\"copy-paste-icon\"\n",
       "                 onclick=\"copyToClipboard('n_features_to_select',\n",
       "                          this.parentElement.nextElementSibling)\"\n",
       "            ></i></td>\n",
       "            <td class=\"param\">n_features_to_select&nbsp;</td>\n",
       "            <td class=\"value\">5</td>\n",
       "        </tr>\n",
       "    \n",
       "\n",
       "        <tr class=\"default\">\n",
       "            <td><i class=\"copy-paste-icon\"\n",
       "                 onclick=\"copyToClipboard('step',\n",
       "                          this.parentElement.nextElementSibling)\"\n",
       "            ></i></td>\n",
       "            <td class=\"param\">step&nbsp;</td>\n",
       "            <td class=\"value\">1</td>\n",
       "        </tr>\n",
       "    \n",
       "\n",
       "        <tr class=\"default\">\n",
       "            <td><i class=\"copy-paste-icon\"\n",
       "                 onclick=\"copyToClipboard('verbose',\n",
       "                          this.parentElement.nextElementSibling)\"\n",
       "            ></i></td>\n",
       "            <td class=\"param\">verbose&nbsp;</td>\n",
       "            <td class=\"value\">0</td>\n",
       "        </tr>\n",
       "    \n",
       "\n",
       "        <tr class=\"default\">\n",
       "            <td><i class=\"copy-paste-icon\"\n",
       "                 onclick=\"copyToClipboard('importance_getter',\n",
       "                          this.parentElement.nextElementSibling)\"\n",
       "            ></i></td>\n",
       "            <td class=\"param\">importance_getter&nbsp;</td>\n",
       "            <td class=\"value\">&#x27;auto&#x27;</td>\n",
       "        </tr>\n",
       "    \n",
       "                  </tbody>\n",
       "                </table>\n",
       "            </details>\n",
       "        </div>\n",
       "    </div></div></div><div class=\"sk-parallel\"><div class=\"sk-parallel-item\"><div class=\"sk-item\"><div class=\"sk-label-container\"><div class=\"sk-label fitted sk-toggleable\"><input class=\"sk-toggleable__control sk-hidden--visually\" id=\"sk-estimator-id-11\" type=\"checkbox\" ><label for=\"sk-estimator-id-11\" class=\"sk-toggleable__label fitted sk-toggleable__label-arrow\"><div><div>estimator: LogisticRegression</div></div></label><div class=\"sk-toggleable__content fitted\" data-param-prefix=\"estimator__\"><pre>LogisticRegression(max_iter=10000)</pre></div></div></div><div class=\"sk-serial\"><div class=\"sk-item\"><div class=\"sk-estimator fitted sk-toggleable\"><input class=\"sk-toggleable__control sk-hidden--visually\" id=\"sk-estimator-id-12\" type=\"checkbox\" ><label for=\"sk-estimator-id-12\" class=\"sk-toggleable__label fitted sk-toggleable__label-arrow\"><div><div>LogisticRegression</div></div><div><a class=\"sk-estimator-doc-link fitted\" rel=\"noreferrer\" target=\"_blank\" href=\"https://scikit-learn.org/1.7/modules/generated/sklearn.linear_model.LogisticRegression.html\">?<span>Documentation for LogisticRegression</span></a></div></label><div class=\"sk-toggleable__content fitted\" data-param-prefix=\"estimator__\">\n",
       "        <div class=\"estimator-table\">\n",
       "            <details>\n",
       "                <summary>Parameters</summary>\n",
       "                <table class=\"parameters-table\">\n",
       "                  <tbody>\n",
       "                    \n",
       "        <tr class=\"default\">\n",
       "            <td><i class=\"copy-paste-icon\"\n",
       "                 onclick=\"copyToClipboard('penalty',\n",
       "                          this.parentElement.nextElementSibling)\"\n",
       "            ></i></td>\n",
       "            <td class=\"param\">penalty&nbsp;</td>\n",
       "            <td class=\"value\">&#x27;l2&#x27;</td>\n",
       "        </tr>\n",
       "    \n",
       "\n",
       "        <tr class=\"default\">\n",
       "            <td><i class=\"copy-paste-icon\"\n",
       "                 onclick=\"copyToClipboard('dual',\n",
       "                          this.parentElement.nextElementSibling)\"\n",
       "            ></i></td>\n",
       "            <td class=\"param\">dual&nbsp;</td>\n",
       "            <td class=\"value\">False</td>\n",
       "        </tr>\n",
       "    \n",
       "\n",
       "        <tr class=\"default\">\n",
       "            <td><i class=\"copy-paste-icon\"\n",
       "                 onclick=\"copyToClipboard('tol',\n",
       "                          this.parentElement.nextElementSibling)\"\n",
       "            ></i></td>\n",
       "            <td class=\"param\">tol&nbsp;</td>\n",
       "            <td class=\"value\">0.0001</td>\n",
       "        </tr>\n",
       "    \n",
       "\n",
       "        <tr class=\"default\">\n",
       "            <td><i class=\"copy-paste-icon\"\n",
       "                 onclick=\"copyToClipboard('C',\n",
       "                          this.parentElement.nextElementSibling)\"\n",
       "            ></i></td>\n",
       "            <td class=\"param\">C&nbsp;</td>\n",
       "            <td class=\"value\">1.0</td>\n",
       "        </tr>\n",
       "    \n",
       "\n",
       "        <tr class=\"default\">\n",
       "            <td><i class=\"copy-paste-icon\"\n",
       "                 onclick=\"copyToClipboard('fit_intercept',\n",
       "                          this.parentElement.nextElementSibling)\"\n",
       "            ></i></td>\n",
       "            <td class=\"param\">fit_intercept&nbsp;</td>\n",
       "            <td class=\"value\">True</td>\n",
       "        </tr>\n",
       "    \n",
       "\n",
       "        <tr class=\"default\">\n",
       "            <td><i class=\"copy-paste-icon\"\n",
       "                 onclick=\"copyToClipboard('intercept_scaling',\n",
       "                          this.parentElement.nextElementSibling)\"\n",
       "            ></i></td>\n",
       "            <td class=\"param\">intercept_scaling&nbsp;</td>\n",
       "            <td class=\"value\">1</td>\n",
       "        </tr>\n",
       "    \n",
       "\n",
       "        <tr class=\"default\">\n",
       "            <td><i class=\"copy-paste-icon\"\n",
       "                 onclick=\"copyToClipboard('class_weight',\n",
       "                          this.parentElement.nextElementSibling)\"\n",
       "            ></i></td>\n",
       "            <td class=\"param\">class_weight&nbsp;</td>\n",
       "            <td class=\"value\">None</td>\n",
       "        </tr>\n",
       "    \n",
       "\n",
       "        <tr class=\"default\">\n",
       "            <td><i class=\"copy-paste-icon\"\n",
       "                 onclick=\"copyToClipboard('random_state',\n",
       "                          this.parentElement.nextElementSibling)\"\n",
       "            ></i></td>\n",
       "            <td class=\"param\">random_state&nbsp;</td>\n",
       "            <td class=\"value\">None</td>\n",
       "        </tr>\n",
       "    \n",
       "\n",
       "        <tr class=\"default\">\n",
       "            <td><i class=\"copy-paste-icon\"\n",
       "                 onclick=\"copyToClipboard('solver',\n",
       "                          this.parentElement.nextElementSibling)\"\n",
       "            ></i></td>\n",
       "            <td class=\"param\">solver&nbsp;</td>\n",
       "            <td class=\"value\">&#x27;lbfgs&#x27;</td>\n",
       "        </tr>\n",
       "    \n",
       "\n",
       "        <tr class=\"user-set\">\n",
       "            <td><i class=\"copy-paste-icon\"\n",
       "                 onclick=\"copyToClipboard('max_iter',\n",
       "                          this.parentElement.nextElementSibling)\"\n",
       "            ></i></td>\n",
       "            <td class=\"param\">max_iter&nbsp;</td>\n",
       "            <td class=\"value\">10000</td>\n",
       "        </tr>\n",
       "    \n",
       "\n",
       "        <tr class=\"default\">\n",
       "            <td><i class=\"copy-paste-icon\"\n",
       "                 onclick=\"copyToClipboard('multi_class',\n",
       "                          this.parentElement.nextElementSibling)\"\n",
       "            ></i></td>\n",
       "            <td class=\"param\">multi_class&nbsp;</td>\n",
       "            <td class=\"value\">&#x27;deprecated&#x27;</td>\n",
       "        </tr>\n",
       "    \n",
       "\n",
       "        <tr class=\"default\">\n",
       "            <td><i class=\"copy-paste-icon\"\n",
       "                 onclick=\"copyToClipboard('verbose',\n",
       "                          this.parentElement.nextElementSibling)\"\n",
       "            ></i></td>\n",
       "            <td class=\"param\">verbose&nbsp;</td>\n",
       "            <td class=\"value\">0</td>\n",
       "        </tr>\n",
       "    \n",
       "\n",
       "        <tr class=\"default\">\n",
       "            <td><i class=\"copy-paste-icon\"\n",
       "                 onclick=\"copyToClipboard('warm_start',\n",
       "                          this.parentElement.nextElementSibling)\"\n",
       "            ></i></td>\n",
       "            <td class=\"param\">warm_start&nbsp;</td>\n",
       "            <td class=\"value\">False</td>\n",
       "        </tr>\n",
       "    \n",
       "\n",
       "        <tr class=\"default\">\n",
       "            <td><i class=\"copy-paste-icon\"\n",
       "                 onclick=\"copyToClipboard('n_jobs',\n",
       "                          this.parentElement.nextElementSibling)\"\n",
       "            ></i></td>\n",
       "            <td class=\"param\">n_jobs&nbsp;</td>\n",
       "            <td class=\"value\">None</td>\n",
       "        </tr>\n",
       "    \n",
       "\n",
       "        <tr class=\"default\">\n",
       "            <td><i class=\"copy-paste-icon\"\n",
       "                 onclick=\"copyToClipboard('l1_ratio',\n",
       "                          this.parentElement.nextElementSibling)\"\n",
       "            ></i></td>\n",
       "            <td class=\"param\">l1_ratio&nbsp;</td>\n",
       "            <td class=\"value\">None</td>\n",
       "        </tr>\n",
       "    \n",
       "                  </tbody>\n",
       "                </table>\n",
       "            </details>\n",
       "        </div>\n",
       "    </div></div></div></div></div></div></div></div></div></div><script>function copyToClipboard(text, element) {\n",
       "    // Get the parameter prefix from the closest toggleable content\n",
       "    const toggleableContent = element.closest('.sk-toggleable__content');\n",
       "    const paramPrefix = toggleableContent ? toggleableContent.dataset.paramPrefix : '';\n",
       "    const fullParamName = paramPrefix ? `${paramPrefix}${text}` : text;\n",
       "\n",
       "    const originalStyle = element.style;\n",
       "    const computedStyle = window.getComputedStyle(element);\n",
       "    const originalWidth = computedStyle.width;\n",
       "    const originalHTML = element.innerHTML.replace('Copied!', '');\n",
       "\n",
       "    navigator.clipboard.writeText(fullParamName)\n",
       "        .then(() => {\n",
       "            element.style.width = originalWidth;\n",
       "            element.style.color = 'green';\n",
       "            element.innerHTML = \"Copied!\";\n",
       "\n",
       "            setTimeout(() => {\n",
       "                element.innerHTML = originalHTML;\n",
       "                element.style = originalStyle;\n",
       "            }, 2000);\n",
       "        })\n",
       "        .catch(err => {\n",
       "            console.error('Failed to copy:', err);\n",
       "            element.style.color = 'red';\n",
       "            element.innerHTML = \"Failed!\";\n",
       "            setTimeout(() => {\n",
       "                element.innerHTML = originalHTML;\n",
       "                element.style = originalStyle;\n",
       "            }, 2000);\n",
       "        });\n",
       "    return false;\n",
       "}\n",
       "\n",
       "document.querySelectorAll('.fa-regular.fa-copy').forEach(function(element) {\n",
       "    const toggleableContent = element.closest('.sk-toggleable__content');\n",
       "    const paramPrefix = toggleableContent ? toggleableContent.dataset.paramPrefix : '';\n",
       "    const paramName = element.parentElement.nextElementSibling.textContent.trim();\n",
       "    const fullParamName = paramPrefix ? `${paramPrefix}${paramName}` : paramName;\n",
       "\n",
       "    element.setAttribute('title', fullParamName);\n",
       "});\n",
       "</script></body>"
      ],
      "text/plain": [
       "RFE(estimator=LogisticRegression(max_iter=10000), n_features_to_select=5)"
      ]
     },
     "execution_count": 100,
     "metadata": {},
     "output_type": "execute_result"
    }
   ],
   "source": [
    "rfe = RFE(estimator=LogisticRegression(max_iter=10000), n_features_to_select=5)\n",
    "rfe.fit(X, y)"
   ]
  },
  {
   "cell_type": "code",
   "execution_count": 101,
   "id": "841fe0ce-c6fe-434c-9d0b-43c8cfddf686",
   "metadata": {},
   "outputs": [],
   "source": [
    "selected = X.columns[rfe.support_]"
   ]
  },
  {
   "cell_type": "code",
   "execution_count": 102,
   "id": "68b5f4b3-b835-4a99-9448-38b802d9b853",
   "metadata": {},
   "outputs": [
    {
     "data": {
      "text/plain": [
       "Index(['radius_mean', 'texture_se', 'radius_worst', 'compactness_worst',\n",
       "       'concavity_worst'],\n",
       "      dtype='object')"
      ]
     },
     "execution_count": 102,
     "metadata": {},
     "output_type": "execute_result"
    }
   ],
   "source": [
    "selected"
   ]
  },
  {
   "cell_type": "markdown",
   "id": "a1a2e38c-fd17-465b-8e0e-6449f196d4d8",
   "metadata": {},
   "source": [
    "#### 4. Models Based"
   ]
  },
  {
   "cell_type": "markdown",
   "id": "8e99d796-1b3a-4beb-aff8-800850a51ef9",
   "metadata": {},
   "source": [
    "## Understand during models learning"
   ]
  },
  {
   "cell_type": "markdown",
   "id": "6d11cf3e-e248-4e23-919b-75470042f850",
   "metadata": {},
   "source": [
    " "
   ]
  },
  {
   "cell_type": "markdown",
   "id": "e543ad90-7577-4969-9b1d-d9b90d31e901",
   "metadata": {},
   "source": [
    "#### 5. SelectKBest"
   ]
  },
  {
   "cell_type": "code",
   "execution_count": 103,
   "id": "9d75ff70-1541-480f-959b-1813e9d8dc65",
   "metadata": {},
   "outputs": [],
   "source": [
    "from sklearn.feature_selection import SelectKBest, f_classif"
   ]
  },
  {
   "cell_type": "code",
   "execution_count": 104,
   "id": "8846e67f-222e-491d-9b31-2f6d95896d55",
   "metadata": {},
   "outputs": [],
   "source": [
    "selector = SelectKBest(score_func=f_classif, k=5)  # or mutual_info_classif\n",
    "X_new = selector.fit_transform(X, y)"
   ]
  },
  {
   "cell_type": "code",
   "execution_count": 105,
   "id": "50b5ab32-4743-41d8-86d0-0e7d9994398f",
   "metadata": {},
   "outputs": [
    {
     "data": {
      "text/plain": [
       "Index(['perimeter_mean', 'concave points_mean', 'radius_worst',\n",
       "       'perimeter_worst', 'concave points_worst'],\n",
       "      dtype='object')"
      ]
     },
     "execution_count": 105,
     "metadata": {},
     "output_type": "execute_result"
    }
   ],
   "source": [
    "selected_features = X.columns[selector.get_support()]\n",
    "selected_features"
   ]
  },
  {
   "cell_type": "markdown",
   "id": "297799f8-5dc7-407f-8be8-bdedddb50e5f",
   "metadata": {},
   "source": [
    " "
   ]
  },
  {
   "cell_type": "markdown",
   "id": "1c72dc2a-88aa-4406-a2a2-488b4d6938d8",
   "metadata": {},
   "source": [
    "## 12. Data imbalance\n",
    "    - check value counts\n",
    "    - handling:\n",
    "        - Resampling (random sampling, SMOT)\n",
    "        - Undersampling\n",
    "        - make model balanced or ensemble"
   ]
  },
  {
   "cell_type": "code",
   "execution_count": 110,
   "id": "7d79c9ea-dd1d-4637-94fa-b79bc6c51e73",
   "metadata": {},
   "outputs": [
    {
     "data": {
      "text/plain": [
       "diagnosis\n",
       "1    62.741652\n",
       "0    37.258348\n",
       "Name: proportion, dtype: float64"
      ]
     },
     "execution_count": 110,
     "metadata": {},
     "output_type": "execute_result"
    }
   ],
   "source": [
    "df['diagnosis'].value_counts(normalize=True)*100"
   ]
  },
  {
   "cell_type": "code",
   "execution_count": 113,
   "id": "f80e2e62-0718-462a-9156-e65260540923",
   "metadata": {
    "scrolled": true
   },
   "outputs": [],
   "source": [
    "# from imblearn.over_sampling import SMOTE\n",
    "# smote = SMOTE()"
   ]
  },
  {
   "cell_type": "markdown",
   "id": "65117640-a3a9-44b7-854a-7e145991000a",
   "metadata": {},
   "source": [
    " "
   ]
  },
  {
   "cell_type": "markdown",
   "id": "448127c7-c765-4758-a775-7b676409bb7b",
   "metadata": {},
   "source": [
    "## 13. Splitting the data"
   ]
  },
  {
   "cell_type": "code",
   "execution_count": 114,
   "id": "83cd63b7-d316-4b70-9c5b-b13b2ff0f12e",
   "metadata": {},
   "outputs": [],
   "source": [
    "from sklearn.datasets import load_breast_cancer\n",
    "from sklearn.model_selection import train_test_split, cross_val_score\n",
    "from sklearn.preprocessing import StandardScaler\n",
    "from sklearn.ensemble import RandomForestClassifier\n",
    "from sklearn.metrics import classification_report"
   ]
  },
  {
   "cell_type": "code",
   "execution_count": 115,
   "id": "796bcd62-f522-4332-a494-68ad1132886d",
   "metadata": {},
   "outputs": [],
   "source": [
    "data = load_breast_cancer()\n",
    "X, y = data.data, data.target"
   ]
  },
  {
   "cell_type": "code",
   "execution_count": 116,
   "id": "147463f8-e598-48d8-ad56-b2188685cafb",
   "metadata": {},
   "outputs": [],
   "source": [
    "X_train, X_test, y_train, y_test = train_test_split(\n",
    "    X, y, test_size=0.2, stratify=y, random_state=42\n",
    ")"
   ]
  },
  {
   "cell_type": "code",
   "execution_count": 118,
   "id": "749dbcc1-a43b-4a48-b409-61c098bbf670",
   "metadata": {},
   "outputs": [],
   "source": [
    "scaler = StandardScaler()\n",
    "X_train_scaled = scaler.fit_transform(X_train)\n",
    "X_test_scaled = scaler.transform(X_test)"
   ]
  },
  {
   "cell_type": "code",
   "execution_count": 119,
   "id": "2d6466bf-4789-4abd-a994-5024187f60d2",
   "metadata": {},
   "outputs": [],
   "source": [
    "model = RandomForestClassifier(random_state=42)"
   ]
  },
  {
   "cell_type": "code",
   "execution_count": 120,
   "id": "d965f061-f11b-4675-97ac-e7b400de6f6b",
   "metadata": {},
   "outputs": [],
   "source": [
    "cv_scores = cross_val_score(model, X_train_scaled, y_train, cv=5, scoring='accuracy')"
   ]
  },
  {
   "cell_type": "code",
   "execution_count": 122,
   "id": "ad212152-bc69-4e01-9d86-7b13d470f707",
   "metadata": {},
   "outputs": [
    {
     "data": {
      "text/plain": [
       "array([0.96703297, 0.98901099, 0.92307692, 0.93406593, 0.95604396])"
      ]
     },
     "execution_count": 122,
     "metadata": {},
     "output_type": "execute_result"
    }
   ],
   "source": [
    "cv_scores"
   ]
  },
  {
   "cell_type": "code",
   "execution_count": null,
   "id": "6933c85c-eacf-4a24-9c54-8a6dd37f88b0",
   "metadata": {},
   "outputs": [],
   "source": []
  }
 ],
 "metadata": {
  "kernelspec": {
   "display_name": "Python 3 (ipykernel)",
   "language": "python",
   "name": "python3"
  },
  "language_info": {
   "codemirror_mode": {
    "name": "ipython",
    "version": 3
   },
   "file_extension": ".py",
   "mimetype": "text/x-python",
   "name": "python",
   "nbconvert_exporter": "python",
   "pygments_lexer": "ipython3",
   "version": "3.12.7"
  }
 },
 "nbformat": 4,
 "nbformat_minor": 5
}
